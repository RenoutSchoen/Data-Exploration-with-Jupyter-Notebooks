{
 "cells": [
  {
   "cell_type": "markdown",
   "metadata": {},
   "source": [
    "# **Where are Jupyter Notebooks usefull for?**"
   ]
  },
  {
   "cell_type": "markdown",
   "metadata": {},
   "source": [
    "### **...Combining languages**"
   ]
  },
  {
   "cell_type": "markdown",
   "metadata": {},
   "source": [
    "\\begin{align}\n",
    "\\dot{x} & = \\sigma(y-x) \\\\\n",
    "\\dot{y} & = \\rho x - y - xz \\\\\n",
    "\\dot{z} & = -\\beta z + xy\n",
    "\\end{align}"
   ]
  },
  {
   "cell_type": "markdown",
   "metadata": {},
   "source": [
    "### **...Saving your notes/thoughts together with the code**"
   ]
  },
  {
   "cell_type": "markdown",
   "metadata": {},
   "source": [
    "### **...Experimenting with live code**"
   ]
  },
  {
   "cell_type": "code",
   "execution_count": 1,
   "metadata": {},
   "outputs": [],
   "source": [
    "a = 'ExampleData'"
   ]
  },
  {
   "cell_type": "code",
   "execution_count": 2,
   "metadata": {},
   "outputs": [
    {
     "data": {
      "text/plain": [
       "'ExampleData'"
      ]
     },
     "execution_count": 2,
     "metadata": {},
     "output_type": "execute_result"
    }
   ],
   "source": [
    "a"
   ]
  },
  {
   "cell_type": "markdown",
   "metadata": {},
   "source": [
    "### **...Making visualizations that are saved with the code**"
   ]
  },
  {
   "cell_type": "markdown",
   "metadata": {},
   "source": [
    "### **...Data Exploration!**"
   ]
  },
  {
   "cell_type": "markdown",
   "metadata": {},
   "source": [
    "# **Pandas**"
   ]
  },
  {
   "cell_type": "code",
   "execution_count": 3,
   "metadata": {},
   "outputs": [],
   "source": [
    "import pandas as pd\n",
    "from tqdm import tqdm\n",
    "tqdm.pandas()\n",
    "%matplotlib inline"
   ]
  },
  {
   "cell_type": "markdown",
   "metadata": {},
   "source": [
    "### **Dataframe from lists**"
   ]
  },
  {
   "cell_type": "code",
   "execution_count": 4,
   "metadata": {},
   "outputs": [
    {
     "data": {
      "text/html": [
       "<div>\n",
       "<style scoped>\n",
       "    .dataframe tbody tr th:only-of-type {\n",
       "        vertical-align: middle;\n",
       "    }\n",
       "\n",
       "    .dataframe tbody tr th {\n",
       "        vertical-align: top;\n",
       "    }\n",
       "\n",
       "    .dataframe thead th {\n",
       "        text-align: right;\n",
       "    }\n",
       "</style>\n",
       "<table border=\"1\" class=\"dataframe\">\n",
       "  <thead>\n",
       "    <tr style=\"text-align: right;\">\n",
       "      <th></th>\n",
       "      <th>number</th>\n",
       "      <th>letter</th>\n",
       "    </tr>\n",
       "  </thead>\n",
       "  <tbody>\n",
       "    <tr>\n",
       "      <th>0</th>\n",
       "      <td>1</td>\n",
       "      <td>a</td>\n",
       "    </tr>\n",
       "    <tr>\n",
       "      <th>1</th>\n",
       "      <td>2</td>\n",
       "      <td>b</td>\n",
       "    </tr>\n",
       "    <tr>\n",
       "      <th>2</th>\n",
       "      <td>3</td>\n",
       "      <td>c</td>\n",
       "    </tr>\n",
       "    <tr>\n",
       "      <th>3</th>\n",
       "      <td>4</td>\n",
       "      <td>d</td>\n",
       "    </tr>\n",
       "  </tbody>\n",
       "</table>\n",
       "</div>"
      ],
      "text/plain": [
       "   number letter\n",
       "0       1      a\n",
       "1       2      b\n",
       "2       3      c\n",
       "3       4      d"
      ]
     },
     "execution_count": 4,
     "metadata": {},
     "output_type": "execute_result"
    }
   ],
   "source": [
    "numbers = [1, 2, 3, 4]\n",
    "letters = ['a', 'b', 'c', 'd']\n",
    "\n",
    "df = pd.DataFrame({\n",
    "    'number': numbers,\n",
    "    'letter': letters\n",
    "                  })\n",
    "df"
   ]
  },
  {
   "cell_type": "markdown",
   "metadata": {},
   "source": [
    "### **Loading a proper dataset**"
   ]
  },
  {
   "cell_type": "code",
   "execution_count": 5,
   "metadata": {},
   "outputs": [],
   "source": [
    "df = pd.read_csv('dataset.csv.gz')\n",
    "df = df.drop_duplicates()\n",
    "df = df.fillna('') # This fills non-existing values in columns with empty string, so we can use string-operations for all values"
   ]
  },
  {
   "cell_type": "markdown",
   "metadata": {},
   "source": [
    "### **Basic Exploration**"
   ]
  },
  {
   "cell_type": "code",
   "execution_count": 6,
   "metadata": {},
   "outputs": [
    {
     "data": {
      "text/html": [
       "<div>\n",
       "<style scoped>\n",
       "    .dataframe tbody tr th:only-of-type {\n",
       "        vertical-align: middle;\n",
       "    }\n",
       "\n",
       "    .dataframe tbody tr th {\n",
       "        vertical-align: top;\n",
       "    }\n",
       "\n",
       "    .dataframe thead th {\n",
       "        text-align: right;\n",
       "    }\n",
       "</style>\n",
       "<table border=\"1\" class=\"dataframe\">\n",
       "  <thead>\n",
       "    <tr style=\"text-align: right;\">\n",
       "      <th></th>\n",
       "      <th>body</th>\n",
       "      <th>text</th>\n",
       "      <th>timestamp</th>\n",
       "      <th>orig_author</th>\n",
       "      <th>thread</th>\n",
       "      <th>post_type</th>\n",
       "      <th>forwarded_by</th>\n",
       "      <th>orig_author_cleaned</th>\n",
       "      <th>datetime</th>\n",
       "      <th>timebin</th>\n",
       "    </tr>\n",
       "  </thead>\n",
       "  <tbody>\n",
       "    <tr>\n",
       "      <th>0</th>\n",
       "      <td>&lt;div class=\"body\"&gt;\\n&lt;div class=\"pull_right dat...</td>\n",
       "      <td>Wies goed met methodes PB NU❗</td>\n",
       "      <td>06.09.2019 00:02:50</td>\n",
       "      <td>Koos Van Spek</td>\n",
       "      <td>BonkersGG</td>\n",
       "      <td>forwarded</td>\n",
       "      <td></td>\n",
       "      <td>Koos Van Spek</td>\n",
       "      <td>2019-09-06 00:02:50</td>\n",
       "      <td>2019-09-06 00:00:00</td>\n",
       "    </tr>\n",
       "    <tr>\n",
       "      <th>1</th>\n",
       "      <td>&lt;div class=\"forwarded body\"&gt;\\n&lt;div class=\"from...</td>\n",
       "      <td>Wies goed met methodes PB NU❗</td>\n",
       "      <td></td>\n",
       "      <td>Koos Van Spek</td>\n",
       "      <td>BonkersGG</td>\n",
       "      <td>forwarded</td>\n",
       "      <td></td>\n",
       "      <td>Koos Van Spek</td>\n",
       "      <td></td>\n",
       "      <td></td>\n",
       "    </tr>\n",
       "  </tbody>\n",
       "</table>\n",
       "</div>"
      ],
      "text/plain": [
       "                                                body  \\\n",
       "0  <div class=\"body\">\\n<div class=\"pull_right dat...   \n",
       "1  <div class=\"forwarded body\">\\n<div class=\"from...   \n",
       "\n",
       "                            text            timestamp    orig_author  \\\n",
       "0  Wies goed met methodes PB NU❗  06.09.2019 00:02:50  Koos Van Spek   \n",
       "1  Wies goed met methodes PB NU❗                       Koos Van Spek   \n",
       "\n",
       "      thread  post_type forwarded_by orig_author_cleaned             datetime  \\\n",
       "0  BonkersGG  forwarded                    Koos Van Spek  2019-09-06 00:02:50   \n",
       "1  BonkersGG  forwarded                    Koos Van Spek                        \n",
       "\n",
       "               timebin  \n",
       "0  2019-09-06 00:00:00  \n",
       "1                       "
      ]
     },
     "execution_count": 6,
     "metadata": {},
     "output_type": "execute_result"
    }
   ],
   "source": [
    "df.head(2)"
   ]
  },
  {
   "cell_type": "code",
   "execution_count": 9,
   "metadata": {},
   "outputs": [
    {
     "data": {
      "text/html": [
       "<div>\n",
       "<style scoped>\n",
       "    .dataframe tbody tr th:only-of-type {\n",
       "        vertical-align: middle;\n",
       "    }\n",
       "\n",
       "    .dataframe tbody tr th {\n",
       "        vertical-align: top;\n",
       "    }\n",
       "\n",
       "    .dataframe thead th {\n",
       "        text-align: right;\n",
       "    }\n",
       "</style>\n",
       "<table border=\"1\" class=\"dataframe\">\n",
       "  <thead>\n",
       "    <tr style=\"text-align: right;\">\n",
       "      <th></th>\n",
       "      <th>body</th>\n",
       "      <th>text</th>\n",
       "      <th>timestamp</th>\n",
       "      <th>orig_author</th>\n",
       "      <th>thread</th>\n",
       "      <th>post_type</th>\n",
       "      <th>forwarded_by</th>\n",
       "      <th>orig_author_cleaned</th>\n",
       "      <th>datetime</th>\n",
       "      <th>timebin</th>\n",
       "    </tr>\n",
       "  </thead>\n",
       "  <tbody>\n",
       "    <tr>\n",
       "      <th>198978</th>\n",
       "      <td>&lt;div class=\"body\"&gt;\\n&lt;div class=\"pull_right dat...</td>\n",
       "      <td>📱📱📱IPHONE 11 PRO MAX 512GB GOUD 📱📱📱 bewijs aan...</td>\n",
       "      <td>17.12.2019 22:06:33</td>\n",
       "      <td>.</td>\n",
       "      <td>SwipersHandel</td>\n",
       "      <td>original</td>\n",
       "      <td></td>\n",
       "      <td>.</td>\n",
       "      <td>2019-12-17 22:06:33</td>\n",
       "      <td>2019-12-17 00:00:00</td>\n",
       "    </tr>\n",
       "    <tr>\n",
       "      <th>66227</th>\n",
       "      <td>&lt;div class=\"body\"&gt;\\n&lt;div class=\"pull_right dat...</td>\n",
       "      <td>wie heeft orra be kaart omgeving rotterdam</td>\n",
       "      <td>13.09.2019 18:13:27</td>\n",
       "      <td>guccilord hushpuppy</td>\n",
       "      <td>BonkersGG</td>\n",
       "      <td>original</td>\n",
       "      <td></td>\n",
       "      <td>guccilord hushpuppy</td>\n",
       "      <td>2019-09-13 18:13:27</td>\n",
       "      <td>2019-09-13 00:00:00</td>\n",
       "    </tr>\n",
       "  </tbody>\n",
       "</table>\n",
       "</div>"
      ],
      "text/plain": [
       "                                                     body  \\\n",
       "198978  <div class=\"body\">\\n<div class=\"pull_right dat...   \n",
       "66227   <div class=\"body\">\\n<div class=\"pull_right dat...   \n",
       "\n",
       "                                                     text  \\\n",
       "198978  📱📱📱IPHONE 11 PRO MAX 512GB GOUD 📱📱📱 bewijs aan...   \n",
       "66227          wie heeft orra be kaart omgeving rotterdam   \n",
       "\n",
       "                  timestamp          orig_author         thread post_type  \\\n",
       "198978  17.12.2019 22:06:33                    .  SwipersHandel  original   \n",
       "66227   13.09.2019 18:13:27  guccilord hushpuppy      BonkersGG  original   \n",
       "\n",
       "       forwarded_by  orig_author_cleaned             datetime  \\\n",
       "198978                                 .  2019-12-17 22:06:33   \n",
       "66227                guccilord hushpuppy  2019-09-13 18:13:27   \n",
       "\n",
       "                    timebin  \n",
       "198978  2019-12-17 00:00:00  \n",
       "66227   2019-09-13 00:00:00  "
      ]
     },
     "execution_count": 9,
     "metadata": {},
     "output_type": "execute_result"
    }
   ],
   "source": [
    "df.sample(2)"
   ]
  },
  {
   "cell_type": "code",
   "execution_count": 10,
   "metadata": {},
   "outputs": [
    {
     "data": {
      "text/html": [
       "<div>\n",
       "<style scoped>\n",
       "    .dataframe tbody tr th:only-of-type {\n",
       "        vertical-align: middle;\n",
       "    }\n",
       "\n",
       "    .dataframe tbody tr th {\n",
       "        vertical-align: top;\n",
       "    }\n",
       "\n",
       "    .dataframe thead th {\n",
       "        text-align: right;\n",
       "    }\n",
       "</style>\n",
       "<table border=\"1\" class=\"dataframe\">\n",
       "  <thead>\n",
       "    <tr style=\"text-align: right;\">\n",
       "      <th></th>\n",
       "      <th>92114</th>\n",
       "      <th>46681</th>\n",
       "    </tr>\n",
       "  </thead>\n",
       "  <tbody>\n",
       "    <tr>\n",
       "      <th>body</th>\n",
       "      <td>&lt;div class=\"body\"&gt;\\n&lt;div class=\"pull_right dat...</td>\n",
       "      <td>&lt;div class=\"forwarded body\"&gt;\\n&lt;div class=\"from...</td>\n",
       "    </tr>\n",
       "    <tr>\n",
       "      <th>text</th>\n",
       "      <td>Iemand die ing be live kan zetten antwerpen</td>\n",
       "      <td>Hello to all buyers on here I sell low balance...</td>\n",
       "    </tr>\n",
       "    <tr>\n",
       "      <th>timestamp</th>\n",
       "      <td>19.01.2020 18:52:49</td>\n",
       "      <td></td>\n",
       "    </tr>\n",
       "    <tr>\n",
       "      <th>orig_author</th>\n",
       "      <td>Max verstappen</td>\n",
       "      <td>James Bills</td>\n",
       "    </tr>\n",
       "    <tr>\n",
       "      <th>thread</th>\n",
       "      <td>BonkersGG</td>\n",
       "      <td>SwipersHandel</td>\n",
       "    </tr>\n",
       "    <tr>\n",
       "      <th>post_type</th>\n",
       "      <td>original</td>\n",
       "      <td>forwarded</td>\n",
       "    </tr>\n",
       "    <tr>\n",
       "      <th>forwarded_by</th>\n",
       "      <td></td>\n",
       "      <td></td>\n",
       "    </tr>\n",
       "    <tr>\n",
       "      <th>orig_author_cleaned</th>\n",
       "      <td>Max verstappen</td>\n",
       "      <td>James Bills</td>\n",
       "    </tr>\n",
       "    <tr>\n",
       "      <th>datetime</th>\n",
       "      <td>2020-01-19 18:52:49</td>\n",
       "      <td></td>\n",
       "    </tr>\n",
       "    <tr>\n",
       "      <th>timebin</th>\n",
       "      <td>2020-01-19 00:00:00</td>\n",
       "      <td></td>\n",
       "    </tr>\n",
       "  </tbody>\n",
       "</table>\n",
       "</div>"
      ],
      "text/plain": [
       "                                                                 92114  \\\n",
       "body                 <div class=\"body\">\\n<div class=\"pull_right dat...   \n",
       "text                       Iemand die ing be live kan zetten antwerpen   \n",
       "timestamp                                          19.01.2020 18:52:49   \n",
       "orig_author                                             Max verstappen   \n",
       "thread                                                       BonkersGG   \n",
       "post_type                                                     original   \n",
       "forwarded_by                                                             \n",
       "orig_author_cleaned                                     Max verstappen   \n",
       "datetime                                           2020-01-19 18:52:49   \n",
       "timebin                                            2020-01-19 00:00:00   \n",
       "\n",
       "                                                                 46681  \n",
       "body                 <div class=\"forwarded body\">\\n<div class=\"from...  \n",
       "text                 Hello to all buyers on here I sell low balance...  \n",
       "timestamp                                                               \n",
       "orig_author                                                James Bills  \n",
       "thread                                                   SwipersHandel  \n",
       "post_type                                                    forwarded  \n",
       "forwarded_by                                                            \n",
       "orig_author_cleaned                                        James Bills  \n",
       "datetime                                                                \n",
       "timebin                                                                 "
      ]
     },
     "execution_count": 10,
     "metadata": {},
     "output_type": "execute_result"
    }
   ],
   "source": [
    "df.sample(2).T # Transpose the output (change column and row axes)"
   ]
  },
  {
   "cell_type": "code",
   "execution_count": 22,
   "metadata": {},
   "outputs": [
    {
     "data": {
      "text/plain": [
       "183188"
      ]
     },
     "execution_count": 22,
     "metadata": {},
     "output_type": "execute_result"
    }
   ],
   "source": [
    "len(df)"
   ]
  },
  {
   "cell_type": "code",
   "execution_count": 25,
   "metadata": {},
   "outputs": [
    {
     "data": {
      "text/plain": [
       "['body',\n",
       " 'text',\n",
       " 'timestamp',\n",
       " 'orig_author',\n",
       " 'thread',\n",
       " 'post_type',\n",
       " 'forwarded_by',\n",
       " 'orig_author_cleaned',\n",
       " 'datetime',\n",
       " 'timebin']"
      ]
     },
     "execution_count": 25,
     "metadata": {},
     "output_type": "execute_result"
    }
   ],
   "source": [
    "list(df)"
   ]
  },
  {
   "cell_type": "code",
   "execution_count": 31,
   "metadata": {},
   "outputs": [
    {
     "data": {
      "text/html": [
       "<div>\n",
       "<style scoped>\n",
       "    .dataframe tbody tr th:only-of-type {\n",
       "        vertical-align: middle;\n",
       "    }\n",
       "\n",
       "    .dataframe tbody tr th {\n",
       "        vertical-align: top;\n",
       "    }\n",
       "\n",
       "    .dataframe thead th {\n",
       "        text-align: right;\n",
       "    }\n",
       "</style>\n",
       "<table border=\"1\" class=\"dataframe\">\n",
       "  <thead>\n",
       "    <tr style=\"text-align: right;\">\n",
       "      <th></th>\n",
       "      <th>timebin</th>\n",
       "      <th>text</th>\n",
       "      <th>orig_author</th>\n",
       "      <th>thread</th>\n",
       "    </tr>\n",
       "  </thead>\n",
       "  <tbody>\n",
       "    <tr>\n",
       "      <th>56712</th>\n",
       "      <td>2019-11-10 00:00:00</td>\n",
       "      <td>Bunq gezocht! Nu werk⚡ 50/50Direct geld minima...</td>\n",
       "      <td>BONKER 🎣</td>\n",
       "      <td>SwipersHandel</td>\n",
       "    </tr>\n",
       "    <tr>\n",
       "      <th>206138</th>\n",
       "      <td>2020-01-13 00:00:00</td>\n",
       "      <td>Wie wil zalando/bol.com accounts‼️Voor 5eu 50 ...</td>\n",
       "      <td>Winston C</td>\n",
       "      <td>SwipersHandel</td>\n",
       "    </tr>\n",
       "    <tr>\n",
       "      <th>71405</th>\n",
       "      <td></td>\n",
       "      <td></td>\n",
       "      <td></td>\n",
       "      <td>BonkersGG</td>\n",
       "    </tr>\n",
       "    <tr>\n",
       "      <th>206575</th>\n",
       "      <td>2020-01-14 00:00:00</td>\n",
       "      <td>1 dag schets ing 15k 30p elke dag mogelijk. Li...</td>\n",
       "      <td>Aii</td>\n",
       "      <td>SwipersHandel</td>\n",
       "    </tr>\n",
       "    <tr>\n",
       "      <th>176771</th>\n",
       "      <td></td>\n",
       "      <td></td>\n",
       "      <td></td>\n",
       "      <td>SwipersHandel</td>\n",
       "    </tr>\n",
       "  </tbody>\n",
       "</table>\n",
       "</div>"
      ],
      "text/plain": [
       "                    timebin  \\\n",
       "56712   2019-11-10 00:00:00   \n",
       "206138  2020-01-13 00:00:00   \n",
       "71405                         \n",
       "206575  2020-01-14 00:00:00   \n",
       "176771                        \n",
       "\n",
       "                                                     text orig_author  \\\n",
       "56712   Bunq gezocht! Nu werk⚡ 50/50Direct geld minima...    BONKER 🎣   \n",
       "206138  Wie wil zalando/bol.com accounts‼️Voor 5eu 50 ...   Winston C   \n",
       "71405                                                                   \n",
       "206575  1 dag schets ing 15k 30p elke dag mogelijk. Li...         Aii   \n",
       "176771                                                                  \n",
       "\n",
       "               thread  \n",
       "56712   SwipersHandel  \n",
       "206138  SwipersHandel  \n",
       "71405       BonkersGG  \n",
       "206575  SwipersHandel  \n",
       "176771  SwipersHandel  "
      ]
     },
     "execution_count": 31,
     "metadata": {},
     "output_type": "execute_result"
    }
   ],
   "source": [
    "# Output a subset of the columns of a dataframe\n",
    "columns = ['timebin', 'text', 'orig_author', 'thread']\n",
    "df[columns].sample(5)"
   ]
  },
  {
   "cell_type": "markdown",
   "metadata": {},
   "source": [
    "### **Value Counts**"
   ]
  },
  {
   "cell_type": "code",
   "execution_count": 33,
   "metadata": {},
   "outputs": [
    {
     "data": {
      "text/html": [
       "<div>\n",
       "<style scoped>\n",
       "    .dataframe tbody tr th:only-of-type {\n",
       "        vertical-align: middle;\n",
       "    }\n",
       "\n",
       "    .dataframe tbody tr th {\n",
       "        vertical-align: top;\n",
       "    }\n",
       "\n",
       "    .dataframe thead th {\n",
       "        text-align: right;\n",
       "    }\n",
       "</style>\n",
       "<table border=\"1\" class=\"dataframe\">\n",
       "  <thead>\n",
       "    <tr style=\"text-align: right;\">\n",
       "      <th></th>\n",
       "      <th>body</th>\n",
       "      <th>text</th>\n",
       "      <th>timestamp</th>\n",
       "      <th>orig_author</th>\n",
       "      <th>thread</th>\n",
       "      <th>post_type</th>\n",
       "      <th>forwarded_by</th>\n",
       "      <th>orig_author_cleaned</th>\n",
       "      <th>datetime</th>\n",
       "      <th>timebin</th>\n",
       "    </tr>\n",
       "  </thead>\n",
       "  <tbody>\n",
       "    <tr>\n",
       "      <th>0</th>\n",
       "      <td>&lt;div class=\"body\"&gt;\\n&lt;div class=\"pull_right dat...</td>\n",
       "      <td>Wies goed met methodes PB NU❗</td>\n",
       "      <td>06.09.2019 00:02:50</td>\n",
       "      <td>Koos Van Spek</td>\n",
       "      <td>BonkersGG</td>\n",
       "      <td>forwarded</td>\n",
       "      <td></td>\n",
       "      <td>Koos Van Spek</td>\n",
       "      <td>2019-09-06 00:02:50</td>\n",
       "      <td>2019-09-06 00:00:00</td>\n",
       "    </tr>\n",
       "    <tr>\n",
       "      <th>1</th>\n",
       "      <td>&lt;div class=\"forwarded body\"&gt;\\n&lt;div class=\"from...</td>\n",
       "      <td>Wies goed met methodes PB NU❗</td>\n",
       "      <td></td>\n",
       "      <td>Koos Van Spek</td>\n",
       "      <td>BonkersGG</td>\n",
       "      <td>forwarded</td>\n",
       "      <td></td>\n",
       "      <td>Koos Van Spek</td>\n",
       "      <td></td>\n",
       "      <td></td>\n",
       "    </tr>\n",
       "  </tbody>\n",
       "</table>\n",
       "</div>"
      ],
      "text/plain": [
       "                                                body  \\\n",
       "0  <div class=\"body\">\\n<div class=\"pull_right dat...   \n",
       "1  <div class=\"forwarded body\">\\n<div class=\"from...   \n",
       "\n",
       "                            text            timestamp    orig_author  \\\n",
       "0  Wies goed met methodes PB NU❗  06.09.2019 00:02:50  Koos Van Spek   \n",
       "1  Wies goed met methodes PB NU❗                       Koos Van Spek   \n",
       "\n",
       "      thread  post_type forwarded_by orig_author_cleaned             datetime  \\\n",
       "0  BonkersGG  forwarded                    Koos Van Spek  2019-09-06 00:02:50   \n",
       "1  BonkersGG  forwarded                    Koos Van Spek                        \n",
       "\n",
       "               timebin  \n",
       "0  2019-09-06 00:00:00  \n",
       "1                       "
      ]
     },
     "execution_count": 33,
     "metadata": {},
     "output_type": "execute_result"
    }
   ],
   "source": [
    "df.head(2)"
   ]
  },
  {
   "cell_type": "code",
   "execution_count": 11,
   "metadata": {},
   "outputs": [
    {
     "data": {
      "text/plain": [
       "SwipersHandel           62879\n",
       "FraudeHandel            61822\n",
       "BonkersGG               42735\n",
       "HollandseHandelgroep     8122\n",
       "HollandseHandel          4635\n",
       "PhishingWorldwide        2108\n",
       "DeEchteFraude             715\n",
       "FraudeHelpdesk            172\n",
       "Name: thread, dtype: int64"
      ]
     },
     "execution_count": 11,
     "metadata": {},
     "output_type": "execute_result"
    }
   ],
   "source": [
    "df.thread.value_counts() # OR df['thread'].value_counts()"
   ]
  },
  {
   "cell_type": "code",
   "execution_count": 21,
   "metadata": {},
   "outputs": [],
   "source": [
    "from matplotlib.pyplot import figure\n",
    "import matplotlib.pyplot as plt\n",
    "import seaborn as sns"
   ]
  },
  {
   "cell_type": "code",
   "execution_count": 35,
   "metadata": {},
   "outputs": [
    {
     "data": {
      "image/png": "[encoded data removed]",
      "text/plain": [
       "<Figure size 1440x360 with 1 Axes>"
      ]
     },
     "metadata": {
      "needs_background": "light"
     },
     "output_type": "display_data"
    }
   ],
   "source": [
    "figure(num=None, figsize=(20, 5))\n",
    "sns.countplot(y='thread', data=df, order=df.thread.value_counts().keys())\n",
    "plt.tight_layout()\n",
    "plt.show()"
   ]
  },
  {
   "cell_type": "markdown",
   "metadata": {},
   "source": [
    "### **Query a Pandas textcolumn**"
   ]
  },
  {
   "cell_type": "code",
   "execution_count": 38,
   "metadata": {},
   "outputs": [
    {
     "data": {
      "text/html": [
       "<div>\n",
       "<style scoped>\n",
       "    .dataframe tbody tr th:only-of-type {\n",
       "        vertical-align: middle;\n",
       "    }\n",
       "\n",
       "    .dataframe tbody tr th {\n",
       "        vertical-align: top;\n",
       "    }\n",
       "\n",
       "    .dataframe thead th {\n",
       "        text-align: right;\n",
       "    }\n",
       "</style>\n",
       "<table border=\"1\" class=\"dataframe\">\n",
       "  <thead>\n",
       "    <tr style=\"text-align: right;\">\n",
       "      <th></th>\n",
       "      <th>body</th>\n",
       "      <th>text</th>\n",
       "      <th>timestamp</th>\n",
       "      <th>orig_author</th>\n",
       "      <th>thread</th>\n",
       "      <th>post_type</th>\n",
       "      <th>forwarded_by</th>\n",
       "      <th>orig_author_cleaned</th>\n",
       "      <th>datetime</th>\n",
       "      <th>timebin</th>\n",
       "    </tr>\n",
       "  </thead>\n",
       "  <tbody>\n",
       "    <tr>\n",
       "      <th>0</th>\n",
       "      <td>&lt;div class=\"body\"&gt;\\n&lt;div class=\"pull_right dat...</td>\n",
       "      <td>Wies goed met methodes PB NU❗</td>\n",
       "      <td>06.09.2019 00:02:50</td>\n",
       "      <td>Koos Van Spek</td>\n",
       "      <td>BonkersGG</td>\n",
       "      <td>forwarded</td>\n",
       "      <td></td>\n",
       "      <td>Koos Van Spek</td>\n",
       "      <td>2019-09-06 00:02:50</td>\n",
       "      <td>2019-09-06 00:00:00</td>\n",
       "    </tr>\n",
       "    <tr>\n",
       "      <th>1</th>\n",
       "      <td>&lt;div class=\"forwarded body\"&gt;\\n&lt;div class=\"from...</td>\n",
       "      <td>Wies goed met methodes PB NU❗</td>\n",
       "      <td></td>\n",
       "      <td>Koos Van Spek</td>\n",
       "      <td>BonkersGG</td>\n",
       "      <td>forwarded</td>\n",
       "      <td></td>\n",
       "      <td>Koos Van Spek</td>\n",
       "      <td></td>\n",
       "      <td></td>\n",
       "    </tr>\n",
       "  </tbody>\n",
       "</table>\n",
       "</div>"
      ],
      "text/plain": [
       "                                                body  \\\n",
       "0  <div class=\"body\">\\n<div class=\"pull_right dat...   \n",
       "1  <div class=\"forwarded body\">\\n<div class=\"from...   \n",
       "\n",
       "                            text            timestamp    orig_author  \\\n",
       "0  Wies goed met methodes PB NU❗  06.09.2019 00:02:50  Koos Van Spek   \n",
       "1  Wies goed met methodes PB NU❗                       Koos Van Spek   \n",
       "\n",
       "      thread  post_type forwarded_by orig_author_cleaned             datetime  \\\n",
       "0  BonkersGG  forwarded                    Koos Van Spek  2019-09-06 00:02:50   \n",
       "1  BonkersGG  forwarded                    Koos Van Spek                        \n",
       "\n",
       "               timebin  \n",
       "0  2019-09-06 00:00:00  \n",
       "1                       "
      ]
     },
     "execution_count": 38,
     "metadata": {},
     "output_type": "execute_result"
    }
   ],
   "source": [
    "df.head(2)"
   ]
  },
  {
   "cell_type": "code",
   "execution_count": 43,
   "metadata": {},
   "outputs": [],
   "source": [
    "# Adjust the appearance of standard output of a pandas dataframe\n",
    "pd.set_option('max_colwidth', 300)\n",
    "pd.set_option('max_rows', 200)"
   ]
  },
  {
   "cell_type": "code",
   "execution_count": 56,
   "metadata": {},
   "outputs": [
    {
     "data": {
      "text/html": [
       "<div>\n",
       "<style scoped>\n",
       "    .dataframe tbody tr th:only-of-type {\n",
       "        vertical-align: middle;\n",
       "    }\n",
       "\n",
       "    .dataframe tbody tr th {\n",
       "        vertical-align: top;\n",
       "    }\n",
       "\n",
       "    .dataframe thead th {\n",
       "        text-align: right;\n",
       "    }\n",
       "</style>\n",
       "<table border=\"1\" class=\"dataframe\">\n",
       "  <thead>\n",
       "    <tr style=\"text-align: right;\">\n",
       "      <th></th>\n",
       "      <th>body</th>\n",
       "      <th>text</th>\n",
       "      <th>timestamp</th>\n",
       "      <th>orig_author</th>\n",
       "      <th>thread</th>\n",
       "      <th>post_type</th>\n",
       "      <th>forwarded_by</th>\n",
       "      <th>orig_author_cleaned</th>\n",
       "      <th>datetime</th>\n",
       "      <th>timebin</th>\n",
       "    </tr>\n",
       "  </thead>\n",
       "  <tbody>\n",
       "    <tr>\n",
       "      <th>79384</th>\n",
       "      <td>&lt;div class=\"body\"&gt;\\n&lt;div class=\"pull_right date details\" title=\"21.11.2019 22:48:29\"&gt;\\n22:48\\n       &lt;/div&gt;\\n&lt;div class=\"from_name\"&gt;\\nDeleted Account\\n       &lt;/div&gt;\\n&lt;div class=\"reply_to details\"&gt;\\nIn reply to &lt;a href=\"#go_to_message32491\" onclick=\"return GoToMessage(32491)\"&gt;this message&lt;/a&gt;\\n&lt;/...</td>\n",
       "      <td>TIKKIE PANEELS EN MP ACCOUNTS (10 per lijst)!!! Connect me voor real shitt!!! Laat je niet oplichten!!</td>\n",
       "      <td>21.11.2019 22:48:29</td>\n",
       "      <td>Deleted Account</td>\n",
       "      <td>BonkersGG</td>\n",
       "      <td>original</td>\n",
       "      <td></td>\n",
       "      <td>Deleted Account</td>\n",
       "      <td>2019-11-21 22:48:29</td>\n",
       "      <td>2019-11-21 00:00:00</td>\n",
       "    </tr>\n",
       "    <tr>\n",
       "      <th>39786</th>\n",
       "      <td>&lt;div class=\"body\"&gt;\\n&lt;div class=\"pull_right date details\" title=\"18.01.2020 11:02:30\"&gt;\\n11:02\\n       &lt;/div&gt;\\n&lt;div class=\"from_name\"&gt;\\nMagnificent \\n       &lt;/div&gt;\\n&lt;div class=\"pull_left forwarded userpic_wrap\"&gt;\\n&lt;div class=\"userpic userpic7\" style=\"width: 42px; height: 42px\"&gt;\\n&lt;div class=\"initial...</td>\n",
       "      <td>nepmerkkleding te koopAlles van topkwaliteitBeste prijzenBetalen met iDeal, TikkieNL/BE shippingExclusieve merkenU stuurt een foto wij regelen hetZoals;⚜️Versace⚜️⚜️Gucci⚜️⚜️Balenciaga⚜️⚜️Louis Vuitton⚜️⚜️D2⚜️⚜️Louboutins⚜️⚜️Alexander mcqueens⚜️⚜️Philipp Plein⚜️⚜️Stone Island⚜️⚜️Givenchy⚜️⚜️EA7⚜...</td>\n",
       "      <td>18.01.2020 11:02:30</td>\n",
       "      <td>Magni Fashion 👕👟</td>\n",
       "      <td>HollandseHandelgroep</td>\n",
       "      <td>forwarded</td>\n",
       "      <td></td>\n",
       "      <td>Magni Fashion</td>\n",
       "      <td>2020-01-18 11:02:30</td>\n",
       "      <td>2020-01-18 00:00:00</td>\n",
       "    </tr>\n",
       "  </tbody>\n",
       "</table>\n",
       "</div>"
      ],
      "text/plain": [
       "                                                                                                                                                                                                                                                                                                              body  \\\n",
       "79384  <div class=\"body\">\\n<div class=\"pull_right date details\" title=\"21.11.2019 22:48:29\">\\n22:48\\n       </div>\\n<div class=\"from_name\">\\nDeleted Account\\n       </div>\\n<div class=\"reply_to details\">\\nIn reply to <a href=\"#go_to_message32491\" onclick=\"return GoToMessage(32491)\">this message</a>\\n</...   \n",
       "39786  <div class=\"body\">\\n<div class=\"pull_right date details\" title=\"18.01.2020 11:02:30\">\\n11:02\\n       </div>\\n<div class=\"from_name\">\\nMagnificent \\n       </div>\\n<div class=\"pull_left forwarded userpic_wrap\">\\n<div class=\"userpic userpic7\" style=\"width: 42px; height: 42px\">\\n<div class=\"initial...   \n",
       "\n",
       "                                                                                                                                                                                                                                                                                                              text  \\\n",
       "79384                                                                                                                                                                                                       TIKKIE PANEELS EN MP ACCOUNTS (10 per lijst)!!! Connect me voor real shitt!!! Laat je niet oplichten!!   \n",
       "39786  nepmerkkleding te koopAlles van topkwaliteitBeste prijzenBetalen met iDeal, TikkieNL/BE shippingExclusieve merkenU stuurt een foto wij regelen hetZoals;⚜️Versace⚜️⚜️Gucci⚜️⚜️Balenciaga⚜️⚜️Louis Vuitton⚜️⚜️D2⚜️⚜️Louboutins⚜️⚜️Alexander mcqueens⚜️⚜️Philipp Plein⚜️⚜️Stone Island⚜️⚜️Givenchy⚜️⚜️EA7⚜...   \n",
       "\n",
       "                 timestamp        orig_author                thread  \\\n",
       "79384  21.11.2019 22:48:29    Deleted Account             BonkersGG   \n",
       "39786  18.01.2020 11:02:30  Magni Fashion 👕👟   HollandseHandelgroep   \n",
       "\n",
       "       post_type forwarded_by orig_author_cleaned             datetime  \\\n",
       "79384   original                  Deleted Account  2019-11-21 22:48:29   \n",
       "39786  forwarded                    Magni Fashion  2020-01-18 11:02:30   \n",
       "\n",
       "                   timebin  \n",
       "79384  2019-11-21 00:00:00  \n",
       "39786  2020-01-18 00:00:00  "
      ]
     },
     "execution_count": 56,
     "metadata": {},
     "output_type": "execute_result"
    }
   ],
   "source": [
    "# Subselect data with a particular word in a particular column\n",
    "df[(df.text.str.lower().str.contains('tikkie'))\n",
    "  ].sample(2)"
   ]
  },
  {
   "cell_type": "code",
   "execution_count": 51,
   "metadata": {},
   "outputs": [],
   "source": [
    "# Subselect data with one of several words in a particular column\n",
    "terms_filter = ['abn', 'ing', 'rabo', 'bunq', 'sns']\n",
    "selected_df = df[df.text.str.lower().str.contains('|'.join(terms_filter))]"
   ]
  },
  {
   "cell_type": "code",
   "execution_count": 52,
   "metadata": {},
   "outputs": [
    {
     "data": {
      "text/plain": [
       "60962"
      ]
     },
     "execution_count": 52,
     "metadata": {},
     "output_type": "execute_result"
    }
   ],
   "source": [
    "len(selected_df)"
   ]
  },
  {
   "cell_type": "markdown",
   "metadata": {},
   "source": [
    "### **Assign a new column**"
   ]
  },
  {
   "cell_type": "code",
   "execution_count": 12,
   "metadata": {},
   "outputs": [],
   "source": [
    "import numpy as np"
   ]
  },
  {
   "cell_type": "code",
   "execution_count": 13,
   "metadata": {},
   "outputs": [
    {
     "name": "stderr",
     "output_type": "stream",
     "text": [
      "100%|██████████| 183188/183188 [00:01<00:00, 181914.22it/s]\n"
     ]
    }
   ],
   "source": [
    "# Just add a (useless) random value column\n",
    "df = df.assign(random_value = df.text.progress_apply(lambda x: np.random.randint(0, 5)))"
   ]
  },
  {
   "cell_type": "code",
   "execution_count": 14,
   "metadata": {},
   "outputs": [],
   "source": [
    "# df.head(2)"
   ]
  },
  {
   "cell_type": "code",
   "execution_count": 15,
   "metadata": {},
   "outputs": [
    {
     "name": "stderr",
     "output_type": "stream",
     "text": [
      "100%|██████████| 183188/183188 [00:00<00:00, 420156.32it/s]\n"
     ]
    }
   ],
   "source": [
    "# Add a text length column\n",
    "df = df.assign(text_length = df.text.progress_apply(lambda x: len(x)))"
   ]
  },
  {
   "cell_type": "code",
   "execution_count": 16,
   "metadata": {},
   "outputs": [],
   "source": [
    "# df.head(2)"
   ]
  },
  {
   "cell_type": "code",
   "execution_count": 17,
   "metadata": {},
   "outputs": [
    {
     "data": {
      "text/html": [
       "<div>\n",
       "<style scoped>\n",
       "    .dataframe tbody tr th:only-of-type {\n",
       "        vertical-align: middle;\n",
       "    }\n",
       "\n",
       "    .dataframe tbody tr th {\n",
       "        vertical-align: top;\n",
       "    }\n",
       "\n",
       "    .dataframe thead th {\n",
       "        text-align: right;\n",
       "    }\n",
       "</style>\n",
       "<table border=\"1\" class=\"dataframe\">\n",
       "  <thead>\n",
       "    <tr style=\"text-align: right;\">\n",
       "      <th></th>\n",
       "      <th>body</th>\n",
       "      <th>text</th>\n",
       "      <th>timestamp</th>\n",
       "      <th>orig_author</th>\n",
       "      <th>thread</th>\n",
       "      <th>post_type</th>\n",
       "      <th>forwarded_by</th>\n",
       "      <th>orig_author_cleaned</th>\n",
       "      <th>datetime</th>\n",
       "      <th>timebin</th>\n",
       "      <th>random_value</th>\n",
       "      <th>text_length</th>\n",
       "    </tr>\n",
       "  </thead>\n",
       "  <tbody>\n",
       "    <tr>\n",
       "      <th>180518</th>\n",
       "      <td>&lt;div class=\"body\"&gt;\\n&lt;div class=\"pull_right dat...</td>\n",
       "      <td>I HAVE CC CVV CCV WU TRANSFER PAYPAL</td>\n",
       "      <td>30.09.2019 03:37:45</td>\n",
       "      <td>Sunny⚠ Vaghela</td>\n",
       "      <td>SwipersHandel</td>\n",
       "      <td>original</td>\n",
       "      <td></td>\n",
       "      <td>Sunny Vaghela</td>\n",
       "      <td>2019-09-30 03:37:45</td>\n",
       "      <td>2019-09-30 00:00:00</td>\n",
       "      <td>3</td>\n",
       "      <td>36</td>\n",
       "    </tr>\n",
       "    <tr>\n",
       "      <th>189377</th>\n",
       "      <td>&lt;div class=\"body\"&gt;\\n&lt;div class=\"pull_right dat...</td>\n",
       "      <td>Wie heb NYP acc voor me gun</td>\n",
       "      <td>13.11.2019 15:19:36</td>\n",
       "      <td>💰</td>\n",
       "      <td>SwipersHandel</td>\n",
       "      <td>original</td>\n",
       "      <td></td>\n",
       "      <td></td>\n",
       "      <td>2019-11-13 15:19:36</td>\n",
       "      <td>2019-11-13 00:00:00</td>\n",
       "      <td>0</td>\n",
       "      <td>27</td>\n",
       "    </tr>\n",
       "  </tbody>\n",
       "</table>\n",
       "</div>"
      ],
      "text/plain": [
       "                                                     body  \\\n",
       "180518  <div class=\"body\">\\n<div class=\"pull_right dat...   \n",
       "189377  <div class=\"body\">\\n<div class=\"pull_right dat...   \n",
       "\n",
       "                                        text            timestamp  \\\n",
       "180518  I HAVE CC CVV CCV WU TRANSFER PAYPAL  30.09.2019 03:37:45   \n",
       "189377           Wie heb NYP acc voor me gun  13.11.2019 15:19:36   \n",
       "\n",
       "           orig_author         thread post_type forwarded_by  \\\n",
       "180518  Sunny⚠ Vaghela  SwipersHandel  original                \n",
       "189377               💰  SwipersHandel  original                \n",
       "\n",
       "       orig_author_cleaned             datetime              timebin  \\\n",
       "180518       Sunny Vaghela  2019-09-30 03:37:45  2019-09-30 00:00:00   \n",
       "189377                      2019-11-13 15:19:36  2019-11-13 00:00:00   \n",
       "\n",
       "        random_value  text_length  \n",
       "180518             3           36  \n",
       "189377             0           27  "
      ]
     },
     "execution_count": 17,
     "metadata": {},
     "output_type": "execute_result"
    }
   ],
   "source": [
    "# Query by using the new text length column\n",
    "df[df.text_length > 20].sample(2)"
   ]
  },
  {
   "cell_type": "code",
   "execution_count": 18,
   "metadata": {},
   "outputs": [
    {
     "data": {
      "text/plain": [
       "['body',\n",
       " 'text',\n",
       " 'timestamp',\n",
       " 'orig_author',\n",
       " 'thread',\n",
       " 'post_type',\n",
       " 'forwarded_by',\n",
       " 'orig_author_cleaned',\n",
       " 'datetime',\n",
       " 'timebin',\n",
       " 'random_value',\n",
       " 'text_length']"
      ]
     },
     "execution_count": 18,
     "metadata": {},
     "output_type": "execute_result"
    }
   ],
   "source": [
    "list(df)"
   ]
  },
  {
   "cell_type": "code",
   "execution_count": 19,
   "metadata": {},
   "outputs": [
    {
     "data": {
      "text/plain": [
       "0    36811\n",
       "1    36805\n",
       "4    36691\n",
       "2    36679\n",
       "3    36202\n",
       "Name: random_value, dtype: int64"
      ]
     },
     "execution_count": 19,
     "metadata": {},
     "output_type": "execute_result"
    }
   ],
   "source": [
    "# Show that the random value column indeed contains an equal distribution of the values\n",
    "df.random_value.value_counts()"
   ]
  },
  {
   "cell_type": "code",
   "execution_count": 74,
   "metadata": {},
   "outputs": [
    {
     "data": {
      "image/png": "[encoded data removed]",
      "text/plain": [
       "<Figure size 1440x288 with 1 Axes>"
      ]
     },
     "metadata": {
      "needs_background": "light"
     },
     "output_type": "display_data"
    }
   ],
   "source": [
    "# And now in a plot\n",
    "figure(num=None, figsize=(20, 4))\n",
    "sns.countplot(y='random_value', data=df, order=df.random_value.value_counts().keys())\n",
    "plt.tight_layout()\n",
    "plt.show()"
   ]
  },
  {
   "cell_type": "code",
   "execution_count": 76,
   "metadata": {},
   "outputs": [],
   "source": [
    "# df.text_length.value_counts()"
   ]
  },
  {
   "cell_type": "code",
   "execution_count": 22,
   "metadata": {},
   "outputs": [
    {
     "data": {
      "image/png": "[encoded data removed]",
      "text/plain": [
       "<Figure size 432x288 with 1 Axes>"
      ]
     },
     "metadata": {
      "needs_background": "light"
     },
     "output_type": "display_data"
    }
   ],
   "source": [
    "plt.hist(df.text_length, bins=200)\n",
    "plt.show()"
   ]
  },
  {
   "cell_type": "code",
   "execution_count": 23,
   "metadata": {},
   "outputs": [],
   "source": [
    "# Change the appearance of plots\n",
    "sns.set_style(\"whitegrid\")\n",
    "sns.set_context(\"notebook\")"
   ]
  },
  {
   "cell_type": "code",
   "execution_count": 24,
   "metadata": {},
   "outputs": [
    {
     "data": {
      "image/png": "[encoded data removed]",
      "text/plain": [
       "<Figure size 1440x288 with 1 Axes>"
      ]
     },
     "metadata": {},
     "output_type": "display_data"
    }
   ],
   "source": [
    "figure(num=None, figsize=(20, 4)) # Setup the figure size before filling the figure\n",
    "plt.hist(df.text_length, bins=200)\n",
    "plt.show()"
   ]
  },
  {
   "cell_type": "code",
   "execution_count": 86,
   "metadata": {},
   "outputs": [
    {
     "data": {
      "text/plain": [
       "183188"
      ]
     },
     "execution_count": 86,
     "metadata": {},
     "output_type": "execute_result"
    }
   ],
   "source": [
    "len(df)"
   ]
  },
  {
   "cell_type": "code",
   "execution_count": 87,
   "metadata": {},
   "outputs": [
    {
     "data": {
      "text/plain": [
       "146400"
      ]
     },
     "execution_count": 87,
     "metadata": {},
     "output_type": "execute_result"
    }
   ],
   "source": [
    "len(df[df.text_length > 5])"
   ]
  },
  {
   "cell_type": "code",
   "execution_count": 25,
   "metadata": {},
   "outputs": [
    {
     "data": {
      "image/png": "[encoded data removed]",
      "text/plain": [
       "<Figure size 1440x288 with 1 Axes>"
      ]
     },
     "metadata": {},
     "output_type": "display_data"
    }
   ],
   "source": [
    "# Now plot the distribution of text length again, but this time with removing the peak of texts that have around 0-5 characters\n",
    "figure(num=None, figsize=(20, 4))\n",
    "plt.hist(df[df.text_length > 5].text_length, bins=200)\n",
    "plt.show()"
   ]
  },
  {
   "cell_type": "markdown",
   "metadata": {},
   "source": [
    "### **Query a Pandas Numeric Column**"
   ]
  },
  {
   "cell_type": "code",
   "execution_count": 90,
   "metadata": {},
   "outputs": [],
   "source": [
    "# df[df.random_value > 3].head(2)"
   ]
  },
  {
   "cell_type": "code",
   "execution_count": 92,
   "metadata": {},
   "outputs": [],
   "source": [
    "# df[df.text_length > 1000].sample(5)"
   ]
  },
  {
   "cell_type": "markdown",
   "metadata": {},
   "source": [
    "### **Extract Values**"
   ]
  },
  {
   "cell_type": "code",
   "execution_count": 97,
   "metadata": {},
   "outputs": [
    {
     "data": {
      "text/plain": [
       "[4, 0, 4, 0, 4, 4, 0, 1, 2, 3]"
      ]
     },
     "execution_count": 97,
     "metadata": {},
     "output_type": "execute_result"
    }
   ],
   "source": [
    "df[df.text_length > 1000]['random_value'].tolist()[:10]"
   ]
  },
  {
   "cell_type": "code",
   "execution_count": 99,
   "metadata": {},
   "outputs": [
    {
     "data": {
      "text/plain": [
       "[4, 0, 4, 0, 4, 4, 0, 1, 2, 3]"
      ]
     },
     "execution_count": 99,
     "metadata": {},
     "output_type": "execute_result"
    }
   ],
   "source": [
    "df[df.text_length > 1000]['random_value'].head(10).tolist()"
   ]
  },
  {
   "cell_type": "code",
   "execution_count": 32,
   "metadata": {},
   "outputs": [
    {
     "name": "stdout",
     "output_type": "stream",
     "text": [
      "Yoo mensen.Mijn aanbiedingen voor jullie:-Phising live pages + panel (alle NL&BE banken + ics + betaalverzoek / tik etc.)-zendklaar factuurtjes (boetes cjib etc)-Private email / combo dumps van injections (handig voor maps)-Bonk method uitleg (txt) -cc/pp cashout uitleg (pdf)-softwares / malwares voor overname van telefoons / pc's etc.-Op aanvraag sites maken -zala/weh/bol/winkels/bije accounts-marktplaats accounts (4-8 jaar)-GREEN / ORA FAKE APP💳CC VerkoopHier heb je een paar voorbeelden. Dus ga niet zeiken en shit.ING (nl): https://i.gyazo.com/65dfbf071cc22e304732d6627d2f9a52.pngArgenta: https://i.gyazo.com/8394aa474d29a1385a7da433e3e0d912.pngAxa: https://i.gyazo.com/95b0968051103f60f2389e2bd8186844.pngBPost: https://i.gyazo.com/983a14ed0056a830f61f45cfb681db48.pngBNP: https://i.gyazo.com/41b9e7354a5449a9bb9971af70b264ee.pngKBC: https://i.gyazo.com/a03c78f74a721c3dec6d422d9e87c604.jpgING (be): https://i.gyazo.com/31cdd8d50376dbe9e637acdfa0aa12be.pngABN: https://i.gyazo.com/f87e06737e2b1d40ef3620db23cae894.pngICS: https://i.gyazo.com/f32de86979efbbeed2ec4ebfd2f33725.pngBol.com: https://i.gyazo.com/3a796dab111cf62f5434791e05923ea6.pngWehkamp: https://i.gyazo.com/3b6b1216ab3ee8aaac836c24b7bee645.pngBij de alle bonksites zit live panel!Koop je meer dan 1 site = korting.\n"
     ]
    },
    {
     "data": {
      "text/markdown": [
       "___"
      ],
      "text/plain": [
       "<IPython.core.display.Markdown object>"
      ]
     },
     "metadata": {},
     "output_type": "display_data"
    },
    {
     "name": "stdout",
     "output_type": "stream",
     "text": [
      "Ophalen AMSTERDAM/ Venlo, levering mogelijk altijd tegen bezorgkosten we bezorgen heel Nederland 🇱🇺 & Belgie 🇧🇪& Germany 🇩🇪 🇩🇪 Abholung Venlo, Lieferung in Absprache, immer gegen Versandkosten 🇩🇪Onsjes Prijzen :100gr €170 🇲🇦 NEW🍫100gr €350 Wiethasj🍫Kilo Prijzen :1 Kilo €1350 🇲🇦 NEW🍫🍫1 Kilo €3000 Wiethasj🍫🍫Wiet Kilo Prijzen :1 Kilo: Spaanse 🇪🇸 Wiet €3600,-🌳1 Kilo: X2 Amnesia Haze €3900,-🌳Coke alleen Venlo momenteel wordt gewerkt aan Amsterdam!Pure coke -----> prive messageCoke 9 STREPEN              🚨 prive message🚨              🚨 prive message🚨🍚 10gr €320 (32) 🇨🇴 (Colo)🍚 20gr €600 (30) 🇨🇴 (Colo)🍚 50gr €1450 (29) 🇨🇴 (Colo)🍚 100gr €2800 (28) 🇨🇴 (Colo)🍚 10gr €340 (34) 🇵🇪 (Peru)🍚 20gr €640 (32) 🇵🇪 (Peru)🍚 50gr €1550 (31) 🇵🇪 (Peru)🍚 100gr €3000 (30) 🇵🇪 (Peru)🍚 10gr €340 (34) 🇧🇴 (Boli)🍚 20gr €640 (32) 🇧🇴 (Boli)🍚 50gr €1550 (31) 🇧🇴 (Boli)🍚 100gr €3000 (30) 🇧🇴 (Boli)Speed : 73.9 % PuurNat of Pasta1KG €600 (6.0)5KG €2650 (5.3)10KG €5000 (5.0)🧪🍼A-olie €1250 1 Liter🧪🍼13 ph 970/980 gewicht! Spablauw, helder!💫 DMT 💫  ❌  💫 DMT 💫1 Potje €85Potje met 0.5g DMT 👈🏻Genoeg voor 10 Trips ✨1 Trip is 0.045g - 0.5g (niet meer gaan gebruiken)🧩🌌 LSD Zegels 🎇🧩200ug :🧩 500 Zegels €450 🧩🧩 1000 Zegels €900 🧩250ug :🧩 500 Zegels €500 🧩🧩1000 Zegels €950 🧩300ug :🧩 500 Zegels €600 🧩🧩 1000 Zegels €1000 🧩Save XTC Pills                         XTC   XTC Plug     👇🏻👇🏽👇🏾👇🏿Pillen/ Pills prices :🍬 Rolex (200mg) €370 1k 🍬🍬 Barca (220mg) €480 1k 🍬🍬 Flugel (200mg) €430 1k 🍬🍬 Farao (240mg) €410 1k 🍬🍬 Rolex (200mg) €1450 5k 🍬🍬 Farao (240mg) €1750 5k 🍬🍬 Rolex (200mg) €2600 10k 🍬🍬 Farao (240mg) €2800 10k 🍬Clean pills, lab tested! Schone pillen ----> connect meEncro : Privé message meWickr : Business020\n"
     ]
    },
    {
     "data": {
      "text/markdown": [
       "___"
      ],
      "text/plain": [
       "<IPython.core.display.Markdown object>"
      ]
     },
     "metadata": {},
     "output_type": "display_data"
    },
    {
     "name": "stdout",
     "output_type": "stream",
     "text": [
      "Yoo mensen.Mijn aanbiedingen voor jullie:-Phising live pages + panel (alle NL&BE banken + ics + betaalverzoek / tik etc.)-zendklaar factuurtjes (boetes cjib etc)-Private email / combo dumps van injections (handig voor maps)-Bonk method uitleg (txt) -cc/pp cashout uitleg (pdf)-softwares / malwares voor overname van telefoons / pc's etc.-Op aanvraag sites maken -zala/weh/bol/winkels/bije accounts-marktplaats accounts (4-8 jaar)-GREEN / ORA FAKE APP💳CC VerkoopHier heb je een paar voorbeelden. Dus ga niet zeiken en shit.ING (nl): https://i.gyazo.com/65dfbf071cc22e304732d6627d2f9a52.pngArgenta: https://i.gyazo.com/8394aa474d29a1385a7da433e3e0d912.pngAxa: https://i.gyazo.com/95b0968051103f60f2389e2bd8186844.pngBPost: https://i.gyazo.com/983a14ed0056a830f61f45cfb681db48.pngBNP: https://i.gyazo.com/41b9e7354a5449a9bb9971af70b264ee.pngKBC: https://i.gyazo.com/a03c78f74a721c3dec6d422d9e87c604.jpgING (be): https://i.gyazo.com/31cdd8d50376dbe9e637acdfa0aa12be.pngABN: https://i.gyazo.com/f87e06737e2b1d40ef3620db23cae894.pngICS: https://i.gyazo.com/f32de86979efbbeed2ec4ebfd2f33725.pngBol.com: https://i.gyazo.com/3a796dab111cf62f5434791e05923ea6.pngWehkamp: https://i.gyazo.com/3b6b1216ab3ee8aaac836c24b7bee645.pngBij de alle bonksites zit live panel!Koop je meer dan 1 site = korting.\n"
     ]
    },
    {
     "data": {
      "text/markdown": [
       "___"
      ],
      "text/plain": [
       "<IPython.core.display.Markdown object>"
      ]
     },
     "metadata": {},
     "output_type": "display_data"
    }
   ],
   "source": [
    "from IPython.display import Markdown, display\n",
    "\n",
    "for text in df[df.text_length > 1000]['text'].sample(3).tolist():\n",
    "    print(text)\n",
    "    display(Markdown('___'))"
   ]
  },
  {
   "cell_type": "markdown",
   "metadata": {},
   "source": [
    "### **Custom Assign**"
   ]
  },
  {
   "cell_type": "code",
   "execution_count": 33,
   "metadata": {},
   "outputs": [],
   "source": [
    "# df.sample(2)"
   ]
  },
  {
   "cell_type": "code",
   "execution_count": 104,
   "metadata": {},
   "outputs": [
    {
     "data": {
      "text/plain": [
       "2"
      ]
     },
     "execution_count": 104,
     "metadata": {},
     "output_type": "execute_result"
    }
   ],
   "source": [
    "# Test the idea\n",
    "a = 'iuhasojidoknjasdk'\n",
    "a.count('o')"
   ]
  },
  {
   "cell_type": "code",
   "execution_count": 108,
   "metadata": {},
   "outputs": [
    {
     "name": "stderr",
     "output_type": "stream",
     "text": [
      "100%|██████████| 183188/183188 [00:00<00:00, 227870.26it/s]\n"
     ]
    }
   ],
   "source": [
    "def leo_function(x):\n",
    "    return x.count('o')\n",
    "\n",
    "df = df.assign(amount_o = df.body.progress_apply(lambda x: leo_function(x)))"
   ]
  },
  {
   "cell_type": "code",
   "execution_count": 109,
   "metadata": {},
   "outputs": [
    {
     "data": {
      "text/html": [
       "<div>\n",
       "<style scoped>\n",
       "    .dataframe tbody tr th:only-of-type {\n",
       "        vertical-align: middle;\n",
       "    }\n",
       "\n",
       "    .dataframe tbody tr th {\n",
       "        vertical-align: top;\n",
       "    }\n",
       "\n",
       "    .dataframe thead th {\n",
       "        text-align: right;\n",
       "    }\n",
       "</style>\n",
       "<table border=\"1\" class=\"dataframe\">\n",
       "  <thead>\n",
       "    <tr style=\"text-align: right;\">\n",
       "      <th></th>\n",
       "      <th>0</th>\n",
       "      <th>1</th>\n",
       "    </tr>\n",
       "  </thead>\n",
       "  <tbody>\n",
       "    <tr>\n",
       "      <th>body</th>\n",
       "      <td>&lt;div class=\"body\"&gt;\\n&lt;div class=\"pull_right date details\" title=\"06.09.2019 00:02:50\"&gt;\\n00:02\\n       &lt;/div&gt;\\n&lt;div class=\"from_name\"&gt;\\nKoos Van Spek\\n       &lt;/div&gt;\\n&lt;div class=\"pull_left forwarded userpic_wrap\"&gt;\\n&lt;div class=\"userpic userpic1\" style=\"width: 42px; height: 42px\"&gt;\\n&lt;div class=\"initia...</td>\n",
       "      <td>&lt;div class=\"forwarded body\"&gt;\\n&lt;div class=\"from_name\"&gt;\\nKoos Van Spek&lt;span class=\"details\"&gt; 06.09.2019 00:02:37&lt;/span&gt;\\n&lt;/div&gt;\\n&lt;div class=\"text\"&gt;\\nWies goed met methodes PB NU❗\\n        &lt;/div&gt;\\n&lt;/div&gt;</td>\n",
       "    </tr>\n",
       "    <tr>\n",
       "      <th>text</th>\n",
       "      <td>Wies goed met methodes PB NU❗</td>\n",
       "      <td>Wies goed met methodes PB NU❗</td>\n",
       "    </tr>\n",
       "    <tr>\n",
       "      <th>timestamp</th>\n",
       "      <td>06.09.2019 00:02:50</td>\n",
       "      <td></td>\n",
       "    </tr>\n",
       "    <tr>\n",
       "      <th>orig_author</th>\n",
       "      <td>Koos Van Spek</td>\n",
       "      <td>Koos Van Spek</td>\n",
       "    </tr>\n",
       "    <tr>\n",
       "      <th>thread</th>\n",
       "      <td>BonkersGG</td>\n",
       "      <td>BonkersGG</td>\n",
       "    </tr>\n",
       "    <tr>\n",
       "      <th>post_type</th>\n",
       "      <td>forwarded</td>\n",
       "      <td>forwarded</td>\n",
       "    </tr>\n",
       "    <tr>\n",
       "      <th>forwarded_by</th>\n",
       "      <td></td>\n",
       "      <td></td>\n",
       "    </tr>\n",
       "    <tr>\n",
       "      <th>orig_author_cleaned</th>\n",
       "      <td>Koos Van Spek</td>\n",
       "      <td>Koos Van Spek</td>\n",
       "    </tr>\n",
       "    <tr>\n",
       "      <th>datetime</th>\n",
       "      <td>2019-09-06 00:02:50</td>\n",
       "      <td></td>\n",
       "    </tr>\n",
       "    <tr>\n",
       "      <th>timebin</th>\n",
       "      <td>2019-09-06 00:00:00</td>\n",
       "      <td></td>\n",
       "    </tr>\n",
       "    <tr>\n",
       "      <th>random_value</th>\n",
       "      <td>2</td>\n",
       "      <td>3</td>\n",
       "    </tr>\n",
       "    <tr>\n",
       "      <th>text_length</th>\n",
       "      <td>29</td>\n",
       "      <td>29</td>\n",
       "    </tr>\n",
       "    <tr>\n",
       "      <th>amount_o</th>\n",
       "      <td>12</td>\n",
       "      <td>7</td>\n",
       "    </tr>\n",
       "  </tbody>\n",
       "</table>\n",
       "</div>"
      ],
      "text/plain": [
       "                                                                                                                                                                                                                                                                                                                               0  \\\n",
       "body                 <div class=\"body\">\\n<div class=\"pull_right date details\" title=\"06.09.2019 00:02:50\">\\n00:02\\n       </div>\\n<div class=\"from_name\">\\nKoos Van Spek\\n       </div>\\n<div class=\"pull_left forwarded userpic_wrap\">\\n<div class=\"userpic userpic1\" style=\"width: 42px; height: 42px\">\\n<div class=\"initia...   \n",
       "text                                                                                                                                                                                                                                                                                               Wies goed met methodes PB NU❗   \n",
       "timestamp                                                                                                                                                                                                                                                                                                    06.09.2019 00:02:50   \n",
       "orig_author                                                                                                                                                                                                                                                                                                        Koos Van Spek   \n",
       "thread                                                                                                                                                                                                                                                                                                                 BonkersGG   \n",
       "post_type                                                                                                                                                                                                                                                                                                              forwarded   \n",
       "forwarded_by                                                                                                                                                                                                                                                                                                                       \n",
       "orig_author_cleaned                                                                                                                                                                                                                                                                                                Koos Van Spek   \n",
       "datetime                                                                                                                                                                                                                                                                                                     2019-09-06 00:02:50   \n",
       "timebin                                                                                                                                                                                                                                                                                                      2019-09-06 00:00:00   \n",
       "random_value                                                                                                                                                                                                                                                                                                                   2   \n",
       "text_length                                                                                                                                                                                                                                                                                                                   29   \n",
       "amount_o                                                                                                                                                                                                                                                                                                                      12   \n",
       "\n",
       "                                                                                                                                                                                                                            1  \n",
       "body                 <div class=\"forwarded body\">\\n<div class=\"from_name\">\\nKoos Van Spek<span class=\"details\"> 06.09.2019 00:02:37</span>\\n</div>\\n<div class=\"text\">\\nWies goed met methodes PB NU❗\\n        </div>\\n</div>  \n",
       "text                                                                                                                                                                                            Wies goed met methodes PB NU❗  \n",
       "timestamp                                                                                                                                                                                                                      \n",
       "orig_author                                                                                                                                                                                                     Koos Van Spek  \n",
       "thread                                                                                                                                                                                                              BonkersGG  \n",
       "post_type                                                                                                                                                                                                           forwarded  \n",
       "forwarded_by                                                                                                                                                                                                                   \n",
       "orig_author_cleaned                                                                                                                                                                                             Koos Van Spek  \n",
       "datetime                                                                                                                                                                                                                       \n",
       "timebin                                                                                                                                                                                                                        \n",
       "random_value                                                                                                                                                                                                                3  \n",
       "text_length                                                                                                                                                                                                                29  \n",
       "amount_o                                                                                                                                                                                                                    7  "
      ]
     },
     "execution_count": 109,
     "metadata": {},
     "output_type": "execute_result"
    }
   ],
   "source": [
    "df.head(2).T"
   ]
  },
  {
   "cell_type": "markdown",
   "metadata": {},
   "source": [
    "### **Save the Data**"
   ]
  },
  {
   "cell_type": "code",
   "execution_count": 110,
   "metadata": {},
   "outputs": [],
   "source": [
    "df.to_csv('output_dataset.csv.gz', compression='gzip', index=False)"
   ]
  },
  {
   "cell_type": "code",
   "execution_count": 111,
   "metadata": {},
   "outputs": [],
   "source": [
    "test = pd.read_csv('output_dataset.csv.gz')"
   ]
  },
  {
   "cell_type": "code",
   "execution_count": 112,
   "metadata": {},
   "outputs": [
    {
     "data": {
      "text/html": [
       "<div>\n",
       "<style scoped>\n",
       "    .dataframe tbody tr th:only-of-type {\n",
       "        vertical-align: middle;\n",
       "    }\n",
       "\n",
       "    .dataframe tbody tr th {\n",
       "        vertical-align: top;\n",
       "    }\n",
       "\n",
       "    .dataframe thead th {\n",
       "        text-align: right;\n",
       "    }\n",
       "</style>\n",
       "<table border=\"1\" class=\"dataframe\">\n",
       "  <thead>\n",
       "    <tr style=\"text-align: right;\">\n",
       "      <th></th>\n",
       "      <th>body</th>\n",
       "      <th>text</th>\n",
       "      <th>timestamp</th>\n",
       "      <th>orig_author</th>\n",
       "      <th>thread</th>\n",
       "      <th>post_type</th>\n",
       "      <th>forwarded_by</th>\n",
       "      <th>orig_author_cleaned</th>\n",
       "      <th>datetime</th>\n",
       "      <th>timebin</th>\n",
       "      <th>random_value</th>\n",
       "      <th>text_length</th>\n",
       "      <th>amount_o</th>\n",
       "    </tr>\n",
       "  </thead>\n",
       "  <tbody>\n",
       "    <tr>\n",
       "      <th>0</th>\n",
       "      <td>&lt;div class=\"body\"&gt;\\n&lt;div class=\"pull_right date details\" title=\"06.09.2019 00:02:50\"&gt;\\n00:02\\n       &lt;/div&gt;\\n&lt;div class=\"from_name\"&gt;\\nKoos Van Spek\\n       &lt;/div&gt;\\n&lt;div class=\"pull_left forwarded userpic_wrap\"&gt;\\n&lt;div class=\"userpic userpic1\" style=\"width: 42px; height: 42px\"&gt;\\n&lt;div class=\"initia...</td>\n",
       "      <td>Wies goed met methodes PB NU❗</td>\n",
       "      <td>06.09.2019 00:02:50</td>\n",
       "      <td>Koos Van Spek</td>\n",
       "      <td>BonkersGG</td>\n",
       "      <td>forwarded</td>\n",
       "      <td>NaN</td>\n",
       "      <td>Koos Van Spek</td>\n",
       "      <td>2019-09-06 00:02:50</td>\n",
       "      <td>2019-09-06 00:00:00</td>\n",
       "      <td>2</td>\n",
       "      <td>29</td>\n",
       "      <td>12</td>\n",
       "    </tr>\n",
       "    <tr>\n",
       "      <th>1</th>\n",
       "      <td>&lt;div class=\"forwarded body\"&gt;\\n&lt;div class=\"from_name\"&gt;\\nKoos Van Spek&lt;span class=\"details\"&gt; 06.09.2019 00:02:37&lt;/span&gt;\\n&lt;/div&gt;\\n&lt;div class=\"text\"&gt;\\nWies goed met methodes PB NU❗\\n        &lt;/div&gt;\\n&lt;/div&gt;</td>\n",
       "      <td>Wies goed met methodes PB NU❗</td>\n",
       "      <td>NaN</td>\n",
       "      <td>Koos Van Spek</td>\n",
       "      <td>BonkersGG</td>\n",
       "      <td>forwarded</td>\n",
       "      <td>NaN</td>\n",
       "      <td>Koos Van Spek</td>\n",
       "      <td>NaN</td>\n",
       "      <td>NaN</td>\n",
       "      <td>3</td>\n",
       "      <td>29</td>\n",
       "      <td>7</td>\n",
       "    </tr>\n",
       "  </tbody>\n",
       "</table>\n",
       "</div>"
      ],
      "text/plain": [
       "                                                                                                                                                                                                                                                                                                          body  \\\n",
       "0  <div class=\"body\">\\n<div class=\"pull_right date details\" title=\"06.09.2019 00:02:50\">\\n00:02\\n       </div>\\n<div class=\"from_name\">\\nKoos Van Spek\\n       </div>\\n<div class=\"pull_left forwarded userpic_wrap\">\\n<div class=\"userpic userpic1\" style=\"width: 42px; height: 42px\">\\n<div class=\"initia...   \n",
       "1                                                                                                     <div class=\"forwarded body\">\\n<div class=\"from_name\">\\nKoos Van Spek<span class=\"details\"> 06.09.2019 00:02:37</span>\\n</div>\\n<div class=\"text\">\\nWies goed met methodes PB NU❗\\n        </div>\\n</div>   \n",
       "\n",
       "                            text            timestamp    orig_author  \\\n",
       "0  Wies goed met methodes PB NU❗  06.09.2019 00:02:50  Koos Van Spek   \n",
       "1  Wies goed met methodes PB NU❗                  NaN  Koos Van Spek   \n",
       "\n",
       "      thread  post_type  forwarded_by orig_author_cleaned  \\\n",
       "0  BonkersGG  forwarded           NaN       Koos Van Spek   \n",
       "1  BonkersGG  forwarded           NaN       Koos Van Spek   \n",
       "\n",
       "              datetime              timebin  random_value  text_length  \\\n",
       "0  2019-09-06 00:02:50  2019-09-06 00:00:00             2           29   \n",
       "1                  NaN                  NaN             3           29   \n",
       "\n",
       "   amount_o  \n",
       "0        12  \n",
       "1         7  "
      ]
     },
     "execution_count": 112,
     "metadata": {},
     "output_type": "execute_result"
    }
   ],
   "source": [
    "test.head(2)"
   ]
  }
 ],
 "metadata": {
  "kernelspec": {
   "display_name": "Python 3",
   "language": "python",
   "name": "python3"
  },
  "language_info": {
   "codemirror_mode": {
    "name": "ipython",
    "version": 3
   },
   "file_extension": ".py",
   "mimetype": "text/x-python",
   "name": "python",
   "nbconvert_exporter": "python",
   "pygments_lexer": "ipython3",
   "version": "3.6.9"
  }
 },
 "nbformat": 4,
 "nbformat_minor": 4
}
