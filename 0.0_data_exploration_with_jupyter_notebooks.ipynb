{
 "cells": [
  {
   "cell_type": "markdown",
   "metadata": {},
   "source": [
    "# **Where are Jupyter Notebooks usefull for?**"
   ]
  },
  {
   "cell_type": "markdown",
   "metadata": {},
   "source": [
    "### **...Combining languages**"
   ]
  },
  {
   "cell_type": "markdown",
   "metadata": {},
   "source": [
    "\\begin{align}\n",
    "\\dot{x} & = \\sigma(y-x) \\\\\n",
    "\\dot{y} & = \\rho x - y - xz \\\\\n",
    "\\dot{z} & = -\\beta z + xy\n",
    "\\end{align}"
   ]
  },
  {
   "cell_type": "markdown",
   "metadata": {},
   "source": [
    "### **...Saving your notes/thoughts together with the code**"
   ]
  },
  {
   "cell_type": "markdown",
   "metadata": {},
   "source": [
    "### **...Experimenting with live code**"
   ]
  },
  {
   "cell_type": "code",
   "execution_count": 9,
   "metadata": {},
   "outputs": [],
   "source": [
    "a = 'ExampleData'"
   ]
  },
  {
   "cell_type": "code",
   "execution_count": 10,
   "metadata": {},
   "outputs": [
    {
     "data": {
      "text/plain": [
       "'ExampleData'"
      ]
     },
     "execution_count": 10,
     "metadata": {},
     "output_type": "execute_result"
    }
   ],
   "source": [
    "a"
   ]
  },
  {
   "cell_type": "markdown",
   "metadata": {},
   "source": [
    "### **...Making visualizations that are saved with the code**"
   ]
  },
  {
   "cell_type": "markdown",
   "metadata": {},
   "source": [
    "### **...Data Exploration!**"
   ]
  },
  {
   "cell_type": "markdown",
   "metadata": {},
   "source": [
    "# **Pandas**"
   ]
  },
  {
   "cell_type": "code",
   "execution_count": 4,
   "metadata": {},
   "outputs": [],
   "source": [
    "import pandas as pd\n",
    "from tqdm import tqdm\n",
    "tqdm.pandas()\n",
    "%matplotlib inline"
   ]
  },
  {
   "cell_type": "markdown",
   "metadata": {},
   "source": [
    "### **Dataframe from lists**"
   ]
  },
  {
   "cell_type": "code",
   "execution_count": 15,
   "metadata": {},
   "outputs": [
    {
     "data": {
      "text/html": [
       "<div>\n",
       "<style scoped>\n",
       "    .dataframe tbody tr th:only-of-type {\n",
       "        vertical-align: middle;\n",
       "    }\n",
       "\n",
       "    .dataframe tbody tr th {\n",
       "        vertical-align: top;\n",
       "    }\n",
       "\n",
       "    .dataframe thead th {\n",
       "        text-align: right;\n",
       "    }\n",
       "</style>\n",
       "<table border=\"1\" class=\"dataframe\">\n",
       "  <thead>\n",
       "    <tr style=\"text-align: right;\">\n",
       "      <th></th>\n",
       "      <th>number</th>\n",
       "      <th>letter</th>\n",
       "    </tr>\n",
       "  </thead>\n",
       "  <tbody>\n",
       "    <tr>\n",
       "      <th>0</th>\n",
       "      <td>1</td>\n",
       "      <td>a</td>\n",
       "    </tr>\n",
       "    <tr>\n",
       "      <th>1</th>\n",
       "      <td>2</td>\n",
       "      <td>b</td>\n",
       "    </tr>\n",
       "    <tr>\n",
       "      <th>2</th>\n",
       "      <td>3</td>\n",
       "      <td>c</td>\n",
       "    </tr>\n",
       "    <tr>\n",
       "      <th>3</th>\n",
       "      <td>4</td>\n",
       "      <td>d</td>\n",
       "    </tr>\n",
       "  </tbody>\n",
       "</table>\n",
       "</div>"
      ],
      "text/plain": [
       "   number letter\n",
       "0       1      a\n",
       "1       2      b\n",
       "2       3      c\n",
       "3       4      d"
      ]
     },
     "execution_count": 15,
     "metadata": {},
     "output_type": "execute_result"
    }
   ],
   "source": [
    "numbers = [1, 2, 3, 4]\n",
    "letters = ['a', 'b', 'c', 'd']\n",
    "\n",
    "df = pd.DataFrame({\n",
    "    'number': numbers,\n",
    "    'letter': letters\n",
    "                  })\n",
    "df"
   ]
  },
  {
   "cell_type": "markdown",
   "metadata": {},
   "source": [
    "### **Loading a proper dataset**"
   ]
  },
  {
   "cell_type": "code",
   "execution_count": 16,
   "metadata": {},
   "outputs": [],
   "source": [
    "df = pd.read_csv('../Telegram-Analysis-SRT/dataset.csv.gz')\n",
    "df = df.drop_duplicates()\n",
    "df = df.fillna('')"
   ]
  },
  {
   "cell_type": "markdown",
   "metadata": {},
   "source": [
    "### **Basic Exploration**"
   ]
  },
  {
   "cell_type": "code",
   "execution_count": 17,
   "metadata": {},
   "outputs": [
    {
     "data": {
      "text/html": [
       "<div>\n",
       "<style scoped>\n",
       "    .dataframe tbody tr th:only-of-type {\n",
       "        vertical-align: middle;\n",
       "    }\n",
       "\n",
       "    .dataframe tbody tr th {\n",
       "        vertical-align: top;\n",
       "    }\n",
       "\n",
       "    .dataframe thead th {\n",
       "        text-align: right;\n",
       "    }\n",
       "</style>\n",
       "<table border=\"1\" class=\"dataframe\">\n",
       "  <thead>\n",
       "    <tr style=\"text-align: right;\">\n",
       "      <th></th>\n",
       "      <th>body</th>\n",
       "      <th>text</th>\n",
       "      <th>timestamp</th>\n",
       "      <th>orig_author</th>\n",
       "      <th>thread</th>\n",
       "      <th>post_type</th>\n",
       "      <th>forwarded_by</th>\n",
       "      <th>orig_author_cleaned</th>\n",
       "      <th>datetime</th>\n",
       "      <th>timebin</th>\n",
       "    </tr>\n",
       "  </thead>\n",
       "  <tbody>\n",
       "    <tr>\n",
       "      <th>0</th>\n",
       "      <td>&lt;div class=\"body\"&gt;\\n&lt;div class=\"pull_right dat...</td>\n",
       "      <td>Wies goed met methodes PB NU❗</td>\n",
       "      <td>06.09.2019 00:02:50</td>\n",
       "      <td>Koos Van Spek</td>\n",
       "      <td>BonkersGG</td>\n",
       "      <td>forwarded</td>\n",
       "      <td></td>\n",
       "      <td>Koos Van Spek</td>\n",
       "      <td>2019-09-06 00:02:50</td>\n",
       "      <td>2019-09-06 00:00:00</td>\n",
       "    </tr>\n",
       "    <tr>\n",
       "      <th>1</th>\n",
       "      <td>&lt;div class=\"forwarded body\"&gt;\\n&lt;div class=\"from...</td>\n",
       "      <td>Wies goed met methodes PB NU❗</td>\n",
       "      <td></td>\n",
       "      <td>Koos Van Spek</td>\n",
       "      <td>BonkersGG</td>\n",
       "      <td>forwarded</td>\n",
       "      <td></td>\n",
       "      <td>Koos Van Spek</td>\n",
       "      <td></td>\n",
       "      <td></td>\n",
       "    </tr>\n",
       "  </tbody>\n",
       "</table>\n",
       "</div>"
      ],
      "text/plain": [
       "                                                body  \\\n",
       "0  <div class=\"body\">\\n<div class=\"pull_right dat...   \n",
       "1  <div class=\"forwarded body\">\\n<div class=\"from...   \n",
       "\n",
       "                            text            timestamp    orig_author  \\\n",
       "0  Wies goed met methodes PB NU❗  06.09.2019 00:02:50  Koos Van Spek   \n",
       "1  Wies goed met methodes PB NU❗                       Koos Van Spek   \n",
       "\n",
       "      thread  post_type forwarded_by orig_author_cleaned             datetime  \\\n",
       "0  BonkersGG  forwarded                    Koos Van Spek  2019-09-06 00:02:50   \n",
       "1  BonkersGG  forwarded                    Koos Van Spek                        \n",
       "\n",
       "               timebin  \n",
       "0  2019-09-06 00:00:00  \n",
       "1                       "
      ]
     },
     "execution_count": 17,
     "metadata": {},
     "output_type": "execute_result"
    }
   ],
   "source": [
    "df.head(2)"
   ]
  },
  {
   "cell_type": "code",
   "execution_count": 20,
   "metadata": {},
   "outputs": [
    {
     "data": {
      "text/html": [
       "<div>\n",
       "<style scoped>\n",
       "    .dataframe tbody tr th:only-of-type {\n",
       "        vertical-align: middle;\n",
       "    }\n",
       "\n",
       "    .dataframe tbody tr th {\n",
       "        vertical-align: top;\n",
       "    }\n",
       "\n",
       "    .dataframe thead th {\n",
       "        text-align: right;\n",
       "    }\n",
       "</style>\n",
       "<table border=\"1\" class=\"dataframe\">\n",
       "  <thead>\n",
       "    <tr style=\"text-align: right;\">\n",
       "      <th></th>\n",
       "      <th>body</th>\n",
       "      <th>text</th>\n",
       "      <th>timestamp</th>\n",
       "      <th>orig_author</th>\n",
       "      <th>thread</th>\n",
       "      <th>post_type</th>\n",
       "      <th>forwarded_by</th>\n",
       "      <th>orig_author_cleaned</th>\n",
       "      <th>datetime</th>\n",
       "      <th>timebin</th>\n",
       "    </tr>\n",
       "  </thead>\n",
       "  <tbody>\n",
       "    <tr>\n",
       "      <th>70859</th>\n",
       "      <td>&lt;div class=\"body\"&gt;\\n&lt;div class=\"pull_right dat...</td>\n",
       "      <td>Wil jij snel geld verdienen? ✅ HEB JIJ EEN BAN...</td>\n",
       "      <td>06.10.2019 10:05:35</td>\n",
       "      <td>Deleted Account</td>\n",
       "      <td>BonkersGG</td>\n",
       "      <td>original</td>\n",
       "      <td></td>\n",
       "      <td>Deleted Account</td>\n",
       "      <td>2019-10-06 10:05:35</td>\n",
       "      <td>2019-10-06 00:00:00</td>\n",
       "    </tr>\n",
       "    <tr>\n",
       "      <th>63173</th>\n",
       "      <td>&lt;div class=\"forwarded body\"&gt;\\n&lt;div class=\"from...</td>\n",
       "      <td>Am Doing Online Carding To Any Address items l...</td>\n",
       "      <td></td>\n",
       "      <td>мистер Уайт</td>\n",
       "      <td>SwipersHandel</td>\n",
       "      <td>forwarded</td>\n",
       "      <td></td>\n",
       "      <td></td>\n",
       "      <td></td>\n",
       "      <td></td>\n",
       "    </tr>\n",
       "    <tr>\n",
       "      <th>32038</th>\n",
       "      <td>&lt;div class=\"body\"&gt;\\n&lt;div class=\"pull_right dat...</td>\n",
       "      <td>Zondag / Maandag 👨🏽‍💻   • 2x Videoland        ...</td>\n",
       "      <td>01.12.2019 15:14:54</td>\n",
       "      <td>Vissers 🐟</td>\n",
       "      <td>FraudeHandel</td>\n",
       "      <td>forwarded</td>\n",
       "      <td></td>\n",
       "      <td>Vissers</td>\n",
       "      <td>2019-12-01 15:14:54</td>\n",
       "      <td>2019-12-01 00:00:00</td>\n",
       "    </tr>\n",
       "    <tr>\n",
       "      <th>130107</th>\n",
       "      <td>&lt;div class=\"body\"&gt;\\n&lt;div class=\"pull_right dat...</td>\n",
       "      <td>Dynagas medische lachgas te koop 50euro voor 2...</td>\n",
       "      <td>12.11.2019 18:30:04</td>\n",
       "      <td>Je Weet Het Niet</td>\n",
       "      <td>FraudeHandel</td>\n",
       "      <td>original</td>\n",
       "      <td></td>\n",
       "      <td>Je Weet Het Niet</td>\n",
       "      <td>2019-11-12 18:30:04</td>\n",
       "      <td>2019-11-12 00:00:00</td>\n",
       "    </tr>\n",
       "    <tr>\n",
       "      <th>117491</th>\n",
       "      <td>&lt;div class=\"body\"&gt;\\n&lt;div class=\"title bold\"&gt;\\n...</td>\n",
       "      <td></td>\n",
       "      <td></td>\n",
       "      <td></td>\n",
       "      <td>FraudeHandel</td>\n",
       "      <td>original</td>\n",
       "      <td></td>\n",
       "      <td></td>\n",
       "      <td></td>\n",
       "      <td></td>\n",
       "    </tr>\n",
       "  </tbody>\n",
       "</table>\n",
       "</div>"
      ],
      "text/plain": [
       "                                                     body  \\\n",
       "70859   <div class=\"body\">\\n<div class=\"pull_right dat...   \n",
       "63173   <div class=\"forwarded body\">\\n<div class=\"from...   \n",
       "32038   <div class=\"body\">\\n<div class=\"pull_right dat...   \n",
       "130107  <div class=\"body\">\\n<div class=\"pull_right dat...   \n",
       "117491  <div class=\"body\">\\n<div class=\"title bold\">\\n...   \n",
       "\n",
       "                                                     text  \\\n",
       "70859   Wil jij snel geld verdienen? ✅ HEB JIJ EEN BAN...   \n",
       "63173   Am Doing Online Carding To Any Address items l...   \n",
       "32038   Zondag / Maandag 👨🏽‍💻   • 2x Videoland        ...   \n",
       "130107  Dynagas medische lachgas te koop 50euro voor 2...   \n",
       "117491                                                      \n",
       "\n",
       "                  timestamp       orig_author         thread  post_type  \\\n",
       "70859   06.10.2019 10:05:35   Deleted Account      BonkersGG   original   \n",
       "63173                             мистер Уайт  SwipersHandel  forwarded   \n",
       "32038   01.12.2019 15:14:54        Vissers 🐟    FraudeHandel  forwarded   \n",
       "130107  12.11.2019 18:30:04  Je Weet Het Niet   FraudeHandel   original   \n",
       "117491                                          FraudeHandel   original   \n",
       "\n",
       "       forwarded_by orig_author_cleaned             datetime  \\\n",
       "70859                   Deleted Account  2019-10-06 10:05:35   \n",
       "63173                                                          \n",
       "32038                           Vissers  2019-12-01 15:14:54   \n",
       "130107                 Je Weet Het Niet  2019-11-12 18:30:04   \n",
       "117491                                                         \n",
       "\n",
       "                    timebin  \n",
       "70859   2019-10-06 00:00:00  \n",
       "63173                        \n",
       "32038   2019-12-01 00:00:00  \n",
       "130107  2019-11-12 00:00:00  \n",
       "117491                       "
      ]
     },
     "execution_count": 20,
     "metadata": {},
     "output_type": "execute_result"
    }
   ],
   "source": [
    "df.sample(5)"
   ]
  },
  {
   "cell_type": "code",
   "execution_count": 26,
   "metadata": {},
   "outputs": [
    {
     "data": {
      "text/html": [
       "<div>\n",
       "<style scoped>\n",
       "    .dataframe tbody tr th:only-of-type {\n",
       "        vertical-align: middle;\n",
       "    }\n",
       "\n",
       "    .dataframe tbody tr th {\n",
       "        vertical-align: top;\n",
       "    }\n",
       "\n",
       "    .dataframe thead th {\n",
       "        text-align: right;\n",
       "    }\n",
       "</style>\n",
       "<table border=\"1\" class=\"dataframe\">\n",
       "  <thead>\n",
       "    <tr style=\"text-align: right;\">\n",
       "      <th></th>\n",
       "      <th>151257</th>\n",
       "      <th>191870</th>\n",
       "      <th>27110</th>\n",
       "      <th>9622</th>\n",
       "      <th>199574</th>\n",
       "    </tr>\n",
       "  </thead>\n",
       "  <tbody>\n",
       "    <tr>\n",
       "      <th>body</th>\n",
       "      <td>&lt;div class=\"body\"&gt;\\n&lt;div class=\"pull_right dat...</td>\n",
       "      <td>&lt;div class=\"body\"&gt;\\n&lt;div class=\"pull_right dat...</td>\n",
       "      <td>&lt;div class=\"body\"&gt;\\n&lt;div class=\"pull_right dat...</td>\n",
       "      <td>&lt;div class=\"body\"&gt;\\n&lt;div class=\"pull_right dat...</td>\n",
       "      <td>&lt;div class=\"body details\"&gt;\\nNew Account invite...</td>\n",
       "    </tr>\n",
       "    <tr>\n",
       "      <th>text</th>\n",
       "      <td>Soldaaat</td>\n",
       "      <td>Bnp panel trade voor belfius?</td>\n",
       "      <td></td>\n",
       "      <td>[🎗] VOZFON - SMS SERVICE [🎗][ WAT IS VOZFON ? ...</td>\n",
       "      <td></td>\n",
       "    </tr>\n",
       "    <tr>\n",
       "      <th>timestamp</th>\n",
       "      <td>05.05.2019 22:48:31</td>\n",
       "      <td>22.11.2019 20:22:52</td>\n",
       "      <td>02.10.2019 17:27:50</td>\n",
       "      <td>08.01.2020 22:56:05</td>\n",
       "      <td></td>\n",
       "    </tr>\n",
       "    <tr>\n",
       "      <th>orig_author</th>\n",
       "      <td>K A</td>\n",
       "      <td>—</td>\n",
       "      <td>Fastmoney</td>\n",
       "      <td>DE ECHTE FRAUDE GROEP 👨‍💻✅</td>\n",
       "      <td></td>\n",
       "    </tr>\n",
       "    <tr>\n",
       "      <th>thread</th>\n",
       "      <td>FraudeHandel</td>\n",
       "      <td>SwipersHandel</td>\n",
       "      <td>FraudeHandel</td>\n",
       "      <td>BonkersGG</td>\n",
       "      <td>SwipersHandel</td>\n",
       "    </tr>\n",
       "    <tr>\n",
       "      <th>post_type</th>\n",
       "      <td>original</td>\n",
       "      <td>original</td>\n",
       "      <td>forwarded</td>\n",
       "      <td>forwarded</td>\n",
       "      <td>original</td>\n",
       "    </tr>\n",
       "    <tr>\n",
       "      <th>forwarded_by</th>\n",
       "      <td></td>\n",
       "      <td></td>\n",
       "      <td></td>\n",
       "      <td></td>\n",
       "      <td></td>\n",
       "    </tr>\n",
       "    <tr>\n",
       "      <th>orig_author_cleaned</th>\n",
       "      <td>K A</td>\n",
       "      <td></td>\n",
       "      <td>Fastmoney</td>\n",
       "      <td>DE ECHTE FRAUDE GROEP</td>\n",
       "      <td></td>\n",
       "    </tr>\n",
       "    <tr>\n",
       "      <th>datetime</th>\n",
       "      <td>2019-05-05 22:48:31</td>\n",
       "      <td>2019-11-22 20:22:52</td>\n",
       "      <td>2019-10-02 17:27:50</td>\n",
       "      <td>2020-01-08 22:56:05</td>\n",
       "      <td></td>\n",
       "    </tr>\n",
       "    <tr>\n",
       "      <th>timebin</th>\n",
       "      <td>2019-05-05 00:00:00</td>\n",
       "      <td>2019-11-22 00:00:00</td>\n",
       "      <td>2019-10-02 00:00:00</td>\n",
       "      <td>2020-01-08 00:00:00</td>\n",
       "      <td></td>\n",
       "    </tr>\n",
       "  </tbody>\n",
       "</table>\n",
       "</div>"
      ],
      "text/plain": [
       "                                                                151257  \\\n",
       "body                 <div class=\"body\">\\n<div class=\"pull_right dat...   \n",
       "text                                                          Soldaaat   \n",
       "timestamp                                          05.05.2019 22:48:31   \n",
       "orig_author                                                        K A   \n",
       "thread                                                    FraudeHandel   \n",
       "post_type                                                     original   \n",
       "forwarded_by                                                             \n",
       "orig_author_cleaned                                                K A   \n",
       "datetime                                           2019-05-05 22:48:31   \n",
       "timebin                                            2019-05-05 00:00:00   \n",
       "\n",
       "                                                                191870  \\\n",
       "body                 <div class=\"body\">\\n<div class=\"pull_right dat...   \n",
       "text                                     Bnp panel trade voor belfius?   \n",
       "timestamp                                          22.11.2019 20:22:52   \n",
       "orig_author                                                          —   \n",
       "thread                                                   SwipersHandel   \n",
       "post_type                                                     original   \n",
       "forwarded_by                                                             \n",
       "orig_author_cleaned                                                      \n",
       "datetime                                           2019-11-22 20:22:52   \n",
       "timebin                                            2019-11-22 00:00:00   \n",
       "\n",
       "                                                                27110   \\\n",
       "body                 <div class=\"body\">\\n<div class=\"pull_right dat...   \n",
       "text                                                                     \n",
       "timestamp                                          02.10.2019 17:27:50   \n",
       "orig_author                                                 Fastmoney    \n",
       "thread                                                    FraudeHandel   \n",
       "post_type                                                    forwarded   \n",
       "forwarded_by                                                             \n",
       "orig_author_cleaned                                          Fastmoney   \n",
       "datetime                                           2019-10-02 17:27:50   \n",
       "timebin                                            2019-10-02 00:00:00   \n",
       "\n",
       "                                                                9622    \\\n",
       "body                 <div class=\"body\">\\n<div class=\"pull_right dat...   \n",
       "text                 [🎗] VOZFON - SMS SERVICE [🎗][ WAT IS VOZFON ? ...   \n",
       "timestamp                                          08.01.2020 22:56:05   \n",
       "orig_author                                DE ECHTE FRAUDE GROEP 👨‍💻✅    \n",
       "thread                                                       BonkersGG   \n",
       "post_type                                                    forwarded   \n",
       "forwarded_by                                                             \n",
       "orig_author_cleaned                              DE ECHTE FRAUDE GROEP   \n",
       "datetime                                           2020-01-08 22:56:05   \n",
       "timebin                                            2020-01-08 00:00:00   \n",
       "\n",
       "                                                                199574  \n",
       "body                 <div class=\"body details\">\\nNew Account invite...  \n",
       "text                                                                    \n",
       "timestamp                                                               \n",
       "orig_author                                                             \n",
       "thread                                                   SwipersHandel  \n",
       "post_type                                                     original  \n",
       "forwarded_by                                                            \n",
       "orig_author_cleaned                                                     \n",
       "datetime                                                                \n",
       "timebin                                                                 "
      ]
     },
     "execution_count": 26,
     "metadata": {},
     "output_type": "execute_result"
    }
   ],
   "source": [
    "df.sample(5).T"
   ]
  },
  {
   "cell_type": "code",
   "execution_count": 22,
   "metadata": {},
   "outputs": [
    {
     "data": {
      "text/plain": [
       "183188"
      ]
     },
     "execution_count": 22,
     "metadata": {},
     "output_type": "execute_result"
    }
   ],
   "source": [
    "len(df)"
   ]
  },
  {
   "cell_type": "code",
   "execution_count": 25,
   "metadata": {},
   "outputs": [
    {
     "data": {
      "text/plain": [
       "['body',\n",
       " 'text',\n",
       " 'timestamp',\n",
       " 'orig_author',\n",
       " 'thread',\n",
       " 'post_type',\n",
       " 'forwarded_by',\n",
       " 'orig_author_cleaned',\n",
       " 'datetime',\n",
       " 'timebin']"
      ]
     },
     "execution_count": 25,
     "metadata": {},
     "output_type": "execute_result"
    }
   ],
   "source": [
    "list(df)"
   ]
  },
  {
   "cell_type": "code",
   "execution_count": 31,
   "metadata": {},
   "outputs": [
    {
     "data": {
      "text/html": [
       "<div>\n",
       "<style scoped>\n",
       "    .dataframe tbody tr th:only-of-type {\n",
       "        vertical-align: middle;\n",
       "    }\n",
       "\n",
       "    .dataframe tbody tr th {\n",
       "        vertical-align: top;\n",
       "    }\n",
       "\n",
       "    .dataframe thead th {\n",
       "        text-align: right;\n",
       "    }\n",
       "</style>\n",
       "<table border=\"1\" class=\"dataframe\">\n",
       "  <thead>\n",
       "    <tr style=\"text-align: right;\">\n",
       "      <th></th>\n",
       "      <th>timebin</th>\n",
       "      <th>text</th>\n",
       "      <th>orig_author</th>\n",
       "      <th>thread</th>\n",
       "    </tr>\n",
       "  </thead>\n",
       "  <tbody>\n",
       "    <tr>\n",
       "      <th>56712</th>\n",
       "      <td>2019-11-10 00:00:00</td>\n",
       "      <td>Bunq gezocht! Nu werk⚡ 50/50Direct geld minima...</td>\n",
       "      <td>BONKER 🎣</td>\n",
       "      <td>SwipersHandel</td>\n",
       "    </tr>\n",
       "    <tr>\n",
       "      <th>206138</th>\n",
       "      <td>2020-01-13 00:00:00</td>\n",
       "      <td>Wie wil zalando/bol.com accounts‼️Voor 5eu 50 ...</td>\n",
       "      <td>Winston C</td>\n",
       "      <td>SwipersHandel</td>\n",
       "    </tr>\n",
       "    <tr>\n",
       "      <th>71405</th>\n",
       "      <td></td>\n",
       "      <td></td>\n",
       "      <td></td>\n",
       "      <td>BonkersGG</td>\n",
       "    </tr>\n",
       "    <tr>\n",
       "      <th>206575</th>\n",
       "      <td>2020-01-14 00:00:00</td>\n",
       "      <td>1 dag schets ing 15k 30p elke dag mogelijk. Li...</td>\n",
       "      <td>Aii</td>\n",
       "      <td>SwipersHandel</td>\n",
       "    </tr>\n",
       "    <tr>\n",
       "      <th>176771</th>\n",
       "      <td></td>\n",
       "      <td></td>\n",
       "      <td></td>\n",
       "      <td>SwipersHandel</td>\n",
       "    </tr>\n",
       "  </tbody>\n",
       "</table>\n",
       "</div>"
      ],
      "text/plain": [
       "                    timebin  \\\n",
       "56712   2019-11-10 00:00:00   \n",
       "206138  2020-01-13 00:00:00   \n",
       "71405                         \n",
       "206575  2020-01-14 00:00:00   \n",
       "176771                        \n",
       "\n",
       "                                                     text orig_author  \\\n",
       "56712   Bunq gezocht! Nu werk⚡ 50/50Direct geld minima...    BONKER 🎣   \n",
       "206138  Wie wil zalando/bol.com accounts‼️Voor 5eu 50 ...   Winston C   \n",
       "71405                                                                   \n",
       "206575  1 dag schets ing 15k 30p elke dag mogelijk. Li...         Aii   \n",
       "176771                                                                  \n",
       "\n",
       "               thread  \n",
       "56712   SwipersHandel  \n",
       "206138  SwipersHandel  \n",
       "71405       BonkersGG  \n",
       "206575  SwipersHandel  \n",
       "176771  SwipersHandel  "
      ]
     },
     "execution_count": 31,
     "metadata": {},
     "output_type": "execute_result"
    }
   ],
   "source": [
    "columns = ['timebin', 'text', 'orig_author', 'thread']\n",
    "\n",
    "df[columns].sample(5)"
   ]
  },
  {
   "cell_type": "markdown",
   "metadata": {},
   "source": [
    "### **Value Counts**"
   ]
  },
  {
   "cell_type": "code",
   "execution_count": 33,
   "metadata": {},
   "outputs": [
    {
     "data": {
      "text/html": [
       "<div>\n",
       "<style scoped>\n",
       "    .dataframe tbody tr th:only-of-type {\n",
       "        vertical-align: middle;\n",
       "    }\n",
       "\n",
       "    .dataframe tbody tr th {\n",
       "        vertical-align: top;\n",
       "    }\n",
       "\n",
       "    .dataframe thead th {\n",
       "        text-align: right;\n",
       "    }\n",
       "</style>\n",
       "<table border=\"1\" class=\"dataframe\">\n",
       "  <thead>\n",
       "    <tr style=\"text-align: right;\">\n",
       "      <th></th>\n",
       "      <th>body</th>\n",
       "      <th>text</th>\n",
       "      <th>timestamp</th>\n",
       "      <th>orig_author</th>\n",
       "      <th>thread</th>\n",
       "      <th>post_type</th>\n",
       "      <th>forwarded_by</th>\n",
       "      <th>orig_author_cleaned</th>\n",
       "      <th>datetime</th>\n",
       "      <th>timebin</th>\n",
       "    </tr>\n",
       "  </thead>\n",
       "  <tbody>\n",
       "    <tr>\n",
       "      <th>0</th>\n",
       "      <td>&lt;div class=\"body\"&gt;\\n&lt;div class=\"pull_right dat...</td>\n",
       "      <td>Wies goed met methodes PB NU❗</td>\n",
       "      <td>06.09.2019 00:02:50</td>\n",
       "      <td>Koos Van Spek</td>\n",
       "      <td>BonkersGG</td>\n",
       "      <td>forwarded</td>\n",
       "      <td></td>\n",
       "      <td>Koos Van Spek</td>\n",
       "      <td>2019-09-06 00:02:50</td>\n",
       "      <td>2019-09-06 00:00:00</td>\n",
       "    </tr>\n",
       "    <tr>\n",
       "      <th>1</th>\n",
       "      <td>&lt;div class=\"forwarded body\"&gt;\\n&lt;div class=\"from...</td>\n",
       "      <td>Wies goed met methodes PB NU❗</td>\n",
       "      <td></td>\n",
       "      <td>Koos Van Spek</td>\n",
       "      <td>BonkersGG</td>\n",
       "      <td>forwarded</td>\n",
       "      <td></td>\n",
       "      <td>Koos Van Spek</td>\n",
       "      <td></td>\n",
       "      <td></td>\n",
       "    </tr>\n",
       "  </tbody>\n",
       "</table>\n",
       "</div>"
      ],
      "text/plain": [
       "                                                body  \\\n",
       "0  <div class=\"body\">\\n<div class=\"pull_right dat...   \n",
       "1  <div class=\"forwarded body\">\\n<div class=\"from...   \n",
       "\n",
       "                            text            timestamp    orig_author  \\\n",
       "0  Wies goed met methodes PB NU❗  06.09.2019 00:02:50  Koos Van Spek   \n",
       "1  Wies goed met methodes PB NU❗                       Koos Van Spek   \n",
       "\n",
       "      thread  post_type forwarded_by orig_author_cleaned             datetime  \\\n",
       "0  BonkersGG  forwarded                    Koos Van Spek  2019-09-06 00:02:50   \n",
       "1  BonkersGG  forwarded                    Koos Van Spek                        \n",
       "\n",
       "               timebin  \n",
       "0  2019-09-06 00:00:00  \n",
       "1                       "
      ]
     },
     "execution_count": 33,
     "metadata": {},
     "output_type": "execute_result"
    }
   ],
   "source": [
    "df.head(2)"
   ]
  },
  {
   "cell_type": "code",
   "execution_count": 32,
   "metadata": {},
   "outputs": [
    {
     "data": {
      "text/plain": [
       "SwipersHandel           62879\n",
       "FraudeHandel            61822\n",
       "BonkersGG               42735\n",
       "HollandseHandelgroep     8122\n",
       "HollandseHandel          4635\n",
       "PhishingWorldwide        2108\n",
       "DeEchteFraude             715\n",
       "FraudeHelpdesk            172\n",
       "Name: thread, dtype: int64"
      ]
     },
     "execution_count": 32,
     "metadata": {},
     "output_type": "execute_result"
    }
   ],
   "source": [
    "df.thread.value_counts()"
   ]
  },
  {
   "cell_type": "code",
   "execution_count": 37,
   "metadata": {},
   "outputs": [],
   "source": [
    "# df['thread'].value_counts()"
   ]
  },
  {
   "cell_type": "code",
   "execution_count": 34,
   "metadata": {},
   "outputs": [],
   "source": [
    "from matplotlib.pyplot import figure\n",
    "import matplotlib.pyplot as plt\n",
    "import seaborn as sns"
   ]
  },
  {
   "cell_type": "code",
   "execution_count": 35,
   "metadata": {},
   "outputs": [
    {
     "data": {
      "image/png": "[encoded data removed]",
      "text/plain": [
       "<Figure size 1440x360 with 1 Axes>"
      ]
     },
     "metadata": {
      "needs_background": "light"
     },
     "output_type": "display_data"
    }
   ],
   "source": [
    "figure(num=None, figsize=(20, 5))\n",
    "sns.countplot(y='thread', data=df, order=df.thread.value_counts().keys())\n",
    "plt.tight_layout()\n",
    "plt.show()"
   ]
  },
  {
   "cell_type": "markdown",
   "metadata": {},
   "source": [
    "### **Query a Pandas textcolumn**"
   ]
  },
  {
   "cell_type": "code",
   "execution_count": 38,
   "metadata": {},
   "outputs": [
    {
     "data": {
      "text/html": [
       "<div>\n",
       "<style scoped>\n",
       "    .dataframe tbody tr th:only-of-type {\n",
       "        vertical-align: middle;\n",
       "    }\n",
       "\n",
       "    .dataframe tbody tr th {\n",
       "        vertical-align: top;\n",
       "    }\n",
       "\n",
       "    .dataframe thead th {\n",
       "        text-align: right;\n",
       "    }\n",
       "</style>\n",
       "<table border=\"1\" class=\"dataframe\">\n",
       "  <thead>\n",
       "    <tr style=\"text-align: right;\">\n",
       "      <th></th>\n",
       "      <th>body</th>\n",
       "      <th>text</th>\n",
       "      <th>timestamp</th>\n",
       "      <th>orig_author</th>\n",
       "      <th>thread</th>\n",
       "      <th>post_type</th>\n",
       "      <th>forwarded_by</th>\n",
       "      <th>orig_author_cleaned</th>\n",
       "      <th>datetime</th>\n",
       "      <th>timebin</th>\n",
       "    </tr>\n",
       "  </thead>\n",
       "  <tbody>\n",
       "    <tr>\n",
       "      <th>0</th>\n",
       "      <td>&lt;div class=\"body\"&gt;\\n&lt;div class=\"pull_right dat...</td>\n",
       "      <td>Wies goed met methodes PB NU❗</td>\n",
       "      <td>06.09.2019 00:02:50</td>\n",
       "      <td>Koos Van Spek</td>\n",
       "      <td>BonkersGG</td>\n",
       "      <td>forwarded</td>\n",
       "      <td></td>\n",
       "      <td>Koos Van Spek</td>\n",
       "      <td>2019-09-06 00:02:50</td>\n",
       "      <td>2019-09-06 00:00:00</td>\n",
       "    </tr>\n",
       "    <tr>\n",
       "      <th>1</th>\n",
       "      <td>&lt;div class=\"forwarded body\"&gt;\\n&lt;div class=\"from...</td>\n",
       "      <td>Wies goed met methodes PB NU❗</td>\n",
       "      <td></td>\n",
       "      <td>Koos Van Spek</td>\n",
       "      <td>BonkersGG</td>\n",
       "      <td>forwarded</td>\n",
       "      <td></td>\n",
       "      <td>Koos Van Spek</td>\n",
       "      <td></td>\n",
       "      <td></td>\n",
       "    </tr>\n",
       "  </tbody>\n",
       "</table>\n",
       "</div>"
      ],
      "text/plain": [
       "                                                body  \\\n",
       "0  <div class=\"body\">\\n<div class=\"pull_right dat...   \n",
       "1  <div class=\"forwarded body\">\\n<div class=\"from...   \n",
       "\n",
       "                            text            timestamp    orig_author  \\\n",
       "0  Wies goed met methodes PB NU❗  06.09.2019 00:02:50  Koos Van Spek   \n",
       "1  Wies goed met methodes PB NU❗                       Koos Van Spek   \n",
       "\n",
       "      thread  post_type forwarded_by orig_author_cleaned             datetime  \\\n",
       "0  BonkersGG  forwarded                    Koos Van Spek  2019-09-06 00:02:50   \n",
       "1  BonkersGG  forwarded                    Koos Van Spek                        \n",
       "\n",
       "               timebin  \n",
       "0  2019-09-06 00:00:00  \n",
       "1                       "
      ]
     },
     "execution_count": 38,
     "metadata": {},
     "output_type": "execute_result"
    }
   ],
   "source": [
    "df.head(2)"
   ]
  },
  {
   "cell_type": "code",
   "execution_count": 43,
   "metadata": {},
   "outputs": [],
   "source": [
    "pd.set_option('max_colwidth', 300)\n",
    "pd.set_option('max_rows', 200)"
   ]
  },
  {
   "cell_type": "code",
   "execution_count": 56,
   "metadata": {},
   "outputs": [
    {
     "data": {
      "text/html": [
       "<div>\n",
       "<style scoped>\n",
       "    .dataframe tbody tr th:only-of-type {\n",
       "        vertical-align: middle;\n",
       "    }\n",
       "\n",
       "    .dataframe tbody tr th {\n",
       "        vertical-align: top;\n",
       "    }\n",
       "\n",
       "    .dataframe thead th {\n",
       "        text-align: right;\n",
       "    }\n",
       "</style>\n",
       "<table border=\"1\" class=\"dataframe\">\n",
       "  <thead>\n",
       "    <tr style=\"text-align: right;\">\n",
       "      <th></th>\n",
       "      <th>body</th>\n",
       "      <th>text</th>\n",
       "      <th>timestamp</th>\n",
       "      <th>orig_author</th>\n",
       "      <th>thread</th>\n",
       "      <th>post_type</th>\n",
       "      <th>forwarded_by</th>\n",
       "      <th>orig_author_cleaned</th>\n",
       "      <th>datetime</th>\n",
       "      <th>timebin</th>\n",
       "    </tr>\n",
       "  </thead>\n",
       "  <tbody>\n",
       "    <tr>\n",
       "      <th>79384</th>\n",
       "      <td>&lt;div class=\"body\"&gt;\\n&lt;div class=\"pull_right date details\" title=\"21.11.2019 22:48:29\"&gt;\\n22:48\\n       &lt;/div&gt;\\n&lt;div class=\"from_name\"&gt;\\nDeleted Account\\n       &lt;/div&gt;\\n&lt;div class=\"reply_to details\"&gt;\\nIn reply to &lt;a href=\"#go_to_message32491\" onclick=\"return GoToMessage(32491)\"&gt;this message&lt;/a&gt;\\n&lt;/...</td>\n",
       "      <td>TIKKIE PANEELS EN MP ACCOUNTS (10 per lijst)!!! Connect me voor real shitt!!! Laat je niet oplichten!!</td>\n",
       "      <td>21.11.2019 22:48:29</td>\n",
       "      <td>Deleted Account</td>\n",
       "      <td>BonkersGG</td>\n",
       "      <td>original</td>\n",
       "      <td></td>\n",
       "      <td>Deleted Account</td>\n",
       "      <td>2019-11-21 22:48:29</td>\n",
       "      <td>2019-11-21 00:00:00</td>\n",
       "    </tr>\n",
       "    <tr>\n",
       "      <th>39786</th>\n",
       "      <td>&lt;div class=\"body\"&gt;\\n&lt;div class=\"pull_right date details\" title=\"18.01.2020 11:02:30\"&gt;\\n11:02\\n       &lt;/div&gt;\\n&lt;div class=\"from_name\"&gt;\\nMagnificent \\n       &lt;/div&gt;\\n&lt;div class=\"pull_left forwarded userpic_wrap\"&gt;\\n&lt;div class=\"userpic userpic7\" style=\"width: 42px; height: 42px\"&gt;\\n&lt;div class=\"initial...</td>\n",
       "      <td>nepmerkkleding te koopAlles van topkwaliteitBeste prijzenBetalen met iDeal, TikkieNL/BE shippingExclusieve merkenU stuurt een foto wij regelen hetZoals;⚜️Versace⚜️⚜️Gucci⚜️⚜️Balenciaga⚜️⚜️Louis Vuitton⚜️⚜️D2⚜️⚜️Louboutins⚜️⚜️Alexander mcqueens⚜️⚜️Philipp Plein⚜️⚜️Stone Island⚜️⚜️Givenchy⚜️⚜️EA7⚜...</td>\n",
       "      <td>18.01.2020 11:02:30</td>\n",
       "      <td>Magni Fashion 👕👟</td>\n",
       "      <td>HollandseHandelgroep</td>\n",
       "      <td>forwarded</td>\n",
       "      <td></td>\n",
       "      <td>Magni Fashion</td>\n",
       "      <td>2020-01-18 11:02:30</td>\n",
       "      <td>2020-01-18 00:00:00</td>\n",
       "    </tr>\n",
       "  </tbody>\n",
       "</table>\n",
       "</div>"
      ],
      "text/plain": [
       "                                                                                                                                                                                                                                                                                                              body  \\\n",
       "79384  <div class=\"body\">\\n<div class=\"pull_right date details\" title=\"21.11.2019 22:48:29\">\\n22:48\\n       </div>\\n<div class=\"from_name\">\\nDeleted Account\\n       </div>\\n<div class=\"reply_to details\">\\nIn reply to <a href=\"#go_to_message32491\" onclick=\"return GoToMessage(32491)\">this message</a>\\n</...   \n",
       "39786  <div class=\"body\">\\n<div class=\"pull_right date details\" title=\"18.01.2020 11:02:30\">\\n11:02\\n       </div>\\n<div class=\"from_name\">\\nMagnificent \\n       </div>\\n<div class=\"pull_left forwarded userpic_wrap\">\\n<div class=\"userpic userpic7\" style=\"width: 42px; height: 42px\">\\n<div class=\"initial...   \n",
       "\n",
       "                                                                                                                                                                                                                                                                                                              text  \\\n",
       "79384                                                                                                                                                                                                       TIKKIE PANEELS EN MP ACCOUNTS (10 per lijst)!!! Connect me voor real shitt!!! Laat je niet oplichten!!   \n",
       "39786  nepmerkkleding te koopAlles van topkwaliteitBeste prijzenBetalen met iDeal, TikkieNL/BE shippingExclusieve merkenU stuurt een foto wij regelen hetZoals;⚜️Versace⚜️⚜️Gucci⚜️⚜️Balenciaga⚜️⚜️Louis Vuitton⚜️⚜️D2⚜️⚜️Louboutins⚜️⚜️Alexander mcqueens⚜️⚜️Philipp Plein⚜️⚜️Stone Island⚜️⚜️Givenchy⚜️⚜️EA7⚜...   \n",
       "\n",
       "                 timestamp        orig_author                thread  \\\n",
       "79384  21.11.2019 22:48:29    Deleted Account             BonkersGG   \n",
       "39786  18.01.2020 11:02:30  Magni Fashion 👕👟   HollandseHandelgroep   \n",
       "\n",
       "       post_type forwarded_by orig_author_cleaned             datetime  \\\n",
       "79384   original                  Deleted Account  2019-11-21 22:48:29   \n",
       "39786  forwarded                    Magni Fashion  2020-01-18 11:02:30   \n",
       "\n",
       "                   timebin  \n",
       "79384  2019-11-21 00:00:00  \n",
       "39786  2020-01-18 00:00:00  "
      ]
     },
     "execution_count": 56,
     "metadata": {},
     "output_type": "execute_result"
    }
   ],
   "source": [
    "df[(df.text.str.lower().str.contains('tikkie'))\n",
    "  ].sample(2)"
   ]
  },
  {
   "cell_type": "code",
   "execution_count": 51,
   "metadata": {},
   "outputs": [],
   "source": [
    "terms_filter = ['abn', 'ing', 'rabo', 'bunq', 'sns']\n",
    "selected_df = df[df.text.str.lower().str.contains('|'.join(terms_filter))]"
   ]
  },
  {
   "cell_type": "code",
   "execution_count": 52,
   "metadata": {},
   "outputs": [
    {
     "data": {
      "text/plain": [
       "60962"
      ]
     },
     "execution_count": 52,
     "metadata": {},
     "output_type": "execute_result"
    }
   ],
   "source": [
    "len(selected_df)"
   ]
  },
  {
   "cell_type": "markdown",
   "metadata": {},
   "source": [
    "### **Assign a new column**"
   ]
  },
  {
   "cell_type": "code",
   "execution_count": 59,
   "metadata": {},
   "outputs": [],
   "source": [
    "import numpy as np"
   ]
  },
  {
   "cell_type": "code",
   "execution_count": 60,
   "metadata": {},
   "outputs": [
    {
     "name": "stderr",
     "output_type": "stream",
     "text": [
      "100%|██████████| 183188/183188 [00:01<00:00, 142669.53it/s]\n"
     ]
    }
   ],
   "source": [
    "df = df.assign(random_value = df.text.progress_apply(lambda x: np.random.randint(0, 5)))"
   ]
  },
  {
   "cell_type": "code",
   "execution_count": 64,
   "metadata": {},
   "outputs": [],
   "source": [
    "# df.head(2).T"
   ]
  },
  {
   "cell_type": "code",
   "execution_count": 65,
   "metadata": {},
   "outputs": [
    {
     "name": "stderr",
     "output_type": "stream",
     "text": [
      "100%|██████████| 183188/183188 [00:00<00:00, 337831.40it/s]\n"
     ]
    }
   ],
   "source": [
    "df = df.assign(text_length = df.text.progress_apply(lambda x: len(x)))"
   ]
  },
  {
   "cell_type": "code",
   "execution_count": 67,
   "metadata": {},
   "outputs": [],
   "source": [
    "# df.head(2)"
   ]
  },
  {
   "cell_type": "code",
   "execution_count": 69,
   "metadata": {},
   "outputs": [
    {
     "data": {
      "text/html": [
       "<div>\n",
       "<style scoped>\n",
       "    .dataframe tbody tr th:only-of-type {\n",
       "        vertical-align: middle;\n",
       "    }\n",
       "\n",
       "    .dataframe tbody tr th {\n",
       "        vertical-align: top;\n",
       "    }\n",
       "\n",
       "    .dataframe thead th {\n",
       "        text-align: right;\n",
       "    }\n",
       "</style>\n",
       "<table border=\"1\" class=\"dataframe\">\n",
       "  <thead>\n",
       "    <tr style=\"text-align: right;\">\n",
       "      <th></th>\n",
       "      <th>body</th>\n",
       "      <th>text</th>\n",
       "      <th>timestamp</th>\n",
       "      <th>orig_author</th>\n",
       "      <th>thread</th>\n",
       "      <th>post_type</th>\n",
       "      <th>forwarded_by</th>\n",
       "      <th>orig_author_cleaned</th>\n",
       "      <th>datetime</th>\n",
       "      <th>timebin</th>\n",
       "      <th>random_value</th>\n",
       "      <th>text_length</th>\n",
       "    </tr>\n",
       "  </thead>\n",
       "  <tbody>\n",
       "    <tr>\n",
       "      <th>130285</th>\n",
       "      <td>&lt;div class=\"body\"&gt;\\n&lt;div class=\"pull_right date details\" title=\"13.11.2019 11:29:03\"&gt;\\n11:29\\n       &lt;/div&gt;\\n&lt;div class=\"from_name\"&gt;\\nMoneygram xxx\\n       &lt;/div&gt;\\n&lt;div class=\"text\"&gt;\\nBaro 1 dag schets !!! VERZAMELEN TOT 13:00\\n       &lt;/div&gt;\\n&lt;/div&gt;</td>\n",
       "      <td>Baro 1 dag schets !!! VERZAMELEN TOT 13:00</td>\n",
       "      <td>13.11.2019 11:29:03</td>\n",
       "      <td>Moneygram xxx</td>\n",
       "      <td>FraudeHandel</td>\n",
       "      <td>original</td>\n",
       "      <td></td>\n",
       "      <td>Moneygram xxx</td>\n",
       "      <td>2019-11-13 11:29:03</td>\n",
       "      <td>2019-11-13 00:00:00</td>\n",
       "      <td>0</td>\n",
       "      <td>42</td>\n",
       "    </tr>\n",
       "    <tr>\n",
       "      <th>140017</th>\n",
       "      <td>&lt;div class=\"body\"&gt;\\n&lt;div class=\"pull_right date details\" title=\"09.01.2020 20:14:26\"&gt;\\n20:14\\n       &lt;/div&gt;\\n&lt;div class=\"from_name\"&gt;\\nDindin \\n       &lt;/div&gt;\\n&lt;div class=\"text\"&gt;\\nConnect mij:&lt;br/&gt;&lt;br/&gt;Cocaïne  &lt;br/&gt;Halve    -€25,-&lt;br/&gt;Hele      -€50,-&lt;br/&gt;&lt;br/&gt;OMGEVING : OVERIJSSEL &lt;br/&gt;&lt;br/&gt;TOPK...</td>\n",
       "      <td>Connect mij:Cocaïne  Halve    -€25,-Hele      -€50,-OMGEVING : OVERIJSSEL TOPKWALITEIT !!BEZORGING IN HEEL TWENTE!!🤑🤑 VASTE KLANT = SNELLE BEZORGING</td>\n",
       "      <td>09.01.2020 20:14:26</td>\n",
       "      <td>Dindin</td>\n",
       "      <td>FraudeHandel</td>\n",
       "      <td>original</td>\n",
       "      <td></td>\n",
       "      <td>Dindin</td>\n",
       "      <td>2020-01-09 20:14:26</td>\n",
       "      <td>2020-01-09 00:00:00</td>\n",
       "      <td>4</td>\n",
       "      <td>148</td>\n",
       "    </tr>\n",
       "  </tbody>\n",
       "</table>\n",
       "</div>"
      ],
      "text/plain": [
       "                                                                                                                                                                                                                                                                                                               body  \\\n",
       "130285                                                    <div class=\"body\">\\n<div class=\"pull_right date details\" title=\"13.11.2019 11:29:03\">\\n11:29\\n       </div>\\n<div class=\"from_name\">\\nMoneygram xxx\\n       </div>\\n<div class=\"text\">\\nBaro 1 dag schets !!! VERZAMELEN TOT 13:00\\n       </div>\\n</div>   \n",
       "140017  <div class=\"body\">\\n<div class=\"pull_right date details\" title=\"09.01.2020 20:14:26\">\\n20:14\\n       </div>\\n<div class=\"from_name\">\\nDindin \\n       </div>\\n<div class=\"text\">\\nConnect mij:<br/><br/>Cocaïne  <br/>Halve    -€25,-<br/>Hele      -€50,-<br/><br/>OMGEVING : OVERIJSSEL <br/><br/>TOPK...   \n",
       "\n",
       "                                                                                                                                                        text  \\\n",
       "130285                                                                                                            Baro 1 dag schets !!! VERZAMELEN TOT 13:00   \n",
       "140017  Connect mij:Cocaïne  Halve    -€25,-Hele      -€50,-OMGEVING : OVERIJSSEL TOPKWALITEIT !!BEZORGING IN HEEL TWENTE!!🤑🤑 VASTE KLANT = SNELLE BEZORGING   \n",
       "\n",
       "                  timestamp    orig_author        thread post_type  \\\n",
       "130285  13.11.2019 11:29:03  Moneygram xxx  FraudeHandel  original   \n",
       "140017  09.01.2020 20:14:26         Dindin  FraudeHandel  original   \n",
       "\n",
       "       forwarded_by orig_author_cleaned             datetime  \\\n",
       "130285                    Moneygram xxx  2019-11-13 11:29:03   \n",
       "140017                           Dindin  2020-01-09 20:14:26   \n",
       "\n",
       "                    timebin  random_value  text_length  \n",
       "130285  2019-11-13 00:00:00             0           42  \n",
       "140017  2020-01-09 00:00:00             4          148  "
      ]
     },
     "execution_count": 69,
     "metadata": {},
     "output_type": "execute_result"
    }
   ],
   "source": [
    "df[df.text_length > 20].sample(2)"
   ]
  },
  {
   "cell_type": "code",
   "execution_count": 70,
   "metadata": {},
   "outputs": [
    {
     "data": {
      "text/plain": [
       "['body',\n",
       " 'text',\n",
       " 'timestamp',\n",
       " 'orig_author',\n",
       " 'thread',\n",
       " 'post_type',\n",
       " 'forwarded_by',\n",
       " 'orig_author_cleaned',\n",
       " 'datetime',\n",
       " 'timebin',\n",
       " 'random_value',\n",
       " 'text_length']"
      ]
     },
     "execution_count": 70,
     "metadata": {},
     "output_type": "execute_result"
    }
   ],
   "source": [
    "list(df)"
   ]
  },
  {
   "cell_type": "code",
   "execution_count": 71,
   "metadata": {},
   "outputs": [
    {
     "data": {
      "text/plain": [
       "4    36825\n",
       "0    36805\n",
       "1    36767\n",
       "2    36403\n",
       "3    36388\n",
       "Name: random_value, dtype: int64"
      ]
     },
     "execution_count": 71,
     "metadata": {},
     "output_type": "execute_result"
    }
   ],
   "source": [
    "df.random_value.value_counts()"
   ]
  },
  {
   "cell_type": "code",
   "execution_count": 74,
   "metadata": {},
   "outputs": [
    {
     "data": {
      "image/png": "[encoded data removed]",
      "text/plain": [
       "<Figure size 1440x288 with 1 Axes>"
      ]
     },
     "metadata": {
      "needs_background": "light"
     },
     "output_type": "display_data"
    }
   ],
   "source": [
    "figure(num=None, figsize=(20, 4))\n",
    "sns.countplot(y='random_value', data=df, order=df.random_value.value_counts().keys())\n",
    "plt.tight_layout()\n",
    "plt.show()"
   ]
  },
  {
   "cell_type": "code",
   "execution_count": 76,
   "metadata": {},
   "outputs": [],
   "source": [
    "# df.text_length.value_counts()"
   ]
  },
  {
   "cell_type": "code",
   "execution_count": 77,
   "metadata": {},
   "outputs": [
    {
     "data": {
      "image/png": "[encoded data removed]",
      "text/plain": [
       "<Figure size 432x288 with 1 Axes>"
      ]
     },
     "metadata": {
      "needs_background": "light"
     },
     "output_type": "display_data"
    }
   ],
   "source": [
    "plt.hist(df.text_length, bins=200)\n",
    "plt.show()"
   ]
  },
  {
   "cell_type": "code",
   "execution_count": 84,
   "metadata": {},
   "outputs": [],
   "source": [
    "sns.set_style(\"whitegrid\")\n",
    "sns.set_context(\"poster\")"
   ]
  },
  {
   "cell_type": "code",
   "execution_count": 85,
   "metadata": {},
   "outputs": [
    {
     "data": {
      "image/png": "[encoded data removed]",
      "text/plain": [
       "<Figure size 1440x288 with 1 Axes>"
      ]
     },
     "metadata": {},
     "output_type": "display_data"
    }
   ],
   "source": [
    "figure(num=None, figsize=(20, 4))\n",
    "plt.hist(df.text_length, bins=200)\n",
    "plt.show()"
   ]
  },
  {
   "cell_type": "code",
   "execution_count": 86,
   "metadata": {},
   "outputs": [
    {
     "data": {
      "text/plain": [
       "183188"
      ]
     },
     "execution_count": 86,
     "metadata": {},
     "output_type": "execute_result"
    }
   ],
   "source": [
    "len(df)"
   ]
  },
  {
   "cell_type": "code",
   "execution_count": 87,
   "metadata": {},
   "outputs": [
    {
     "data": {
      "text/plain": [
       "146400"
      ]
     },
     "execution_count": 87,
     "metadata": {},
     "output_type": "execute_result"
    }
   ],
   "source": [
    "len(df[df.text_length > 5])"
   ]
  },
  {
   "cell_type": "code",
   "execution_count": 88,
   "metadata": {},
   "outputs": [
    {
     "data": {
      "image/png": "[encoded data removed]",
      "text/plain": [
       "<Figure size 1440x288 with 1 Axes>"
      ]
     },
     "metadata": {},
     "output_type": "display_data"
    }
   ],
   "source": [
    "figure(num=None, figsize=(20, 4))\n",
    "plt.hist(df[df.text_length > 5].text_length, bins=200)\n",
    "plt.show()"
   ]
  },
  {
   "cell_type": "markdown",
   "metadata": {},
   "source": [
    "### **Query a Pandas Numeric Column**"
   ]
  },
  {
   "cell_type": "code",
   "execution_count": 90,
   "metadata": {},
   "outputs": [],
   "source": [
    "# df[df.random_value > 3].head(2)"
   ]
  },
  {
   "cell_type": "code",
   "execution_count": 92,
   "metadata": {},
   "outputs": [],
   "source": [
    "# df[df.text_length > 1000].sample(5)"
   ]
  },
  {
   "cell_type": "markdown",
   "metadata": {},
   "source": [
    "### **Extract Values**"
   ]
  },
  {
   "cell_type": "code",
   "execution_count": 93,
   "metadata": {},
   "outputs": [
    {
     "data": {
      "text/plain": [
       "1269"
      ]
     },
     "execution_count": 93,
     "metadata": {},
     "output_type": "execute_result"
    }
   ],
   "source": [
    "len(df[df.text_length > 1000])"
   ]
  },
  {
   "cell_type": "code",
   "execution_count": 97,
   "metadata": {},
   "outputs": [
    {
     "data": {
      "text/plain": [
       "[4, 0, 4, 0, 4, 4, 0, 1, 2, 3]"
      ]
     },
     "execution_count": 97,
     "metadata": {},
     "output_type": "execute_result"
    }
   ],
   "source": [
    "df[df.text_length > 1000]['random_value'].tolist()[:10]"
   ]
  },
  {
   "cell_type": "code",
   "execution_count": 99,
   "metadata": {},
   "outputs": [
    {
     "data": {
      "text/plain": [
       "[4, 0, 4, 0, 4, 4, 0, 1, 2, 3]"
      ]
     },
     "execution_count": 99,
     "metadata": {},
     "output_type": "execute_result"
    }
   ],
   "source": [
    "df[df.text_length > 1000]['random_value'].head(10).tolist()"
   ]
  },
  {
   "cell_type": "code",
   "execution_count": 102,
   "metadata": {},
   "outputs": [
    {
     "name": "stdout",
     "output_type": "stream",
     "text": [
      "1392\n",
      "\n",
      "1392\n",
      "\n",
      "1794\n",
      "\n",
      "1794\n",
      "\n",
      "1512\n",
      "\n",
      "1512\n",
      "\n",
      "1348\n",
      "\n",
      "1348\n",
      "\n",
      "1348\n",
      "\n",
      "2800\n",
      "\n"
     ]
    }
   ],
   "source": [
    "for i in df[df.text_length > 1000]['text'].tolist()[:10]:\n",
    "    print(len(i))\n",
    "    print()"
   ]
  },
  {
   "cell_type": "markdown",
   "metadata": {},
   "source": [
    "### **Custom Assign**"
   ]
  },
  {
   "cell_type": "code",
   "execution_count": 103,
   "metadata": {},
   "outputs": [
    {
     "data": {
      "text/html": [
       "<div>\n",
       "<style scoped>\n",
       "    .dataframe tbody tr th:only-of-type {\n",
       "        vertical-align: middle;\n",
       "    }\n",
       "\n",
       "    .dataframe tbody tr th {\n",
       "        vertical-align: top;\n",
       "    }\n",
       "\n",
       "    .dataframe thead th {\n",
       "        text-align: right;\n",
       "    }\n",
       "</style>\n",
       "<table border=\"1\" class=\"dataframe\">\n",
       "  <thead>\n",
       "    <tr style=\"text-align: right;\">\n",
       "      <th></th>\n",
       "      <th>body</th>\n",
       "      <th>text</th>\n",
       "      <th>timestamp</th>\n",
       "      <th>orig_author</th>\n",
       "      <th>thread</th>\n",
       "      <th>post_type</th>\n",
       "      <th>forwarded_by</th>\n",
       "      <th>orig_author_cleaned</th>\n",
       "      <th>datetime</th>\n",
       "      <th>timebin</th>\n",
       "      <th>random_value</th>\n",
       "      <th>text_length</th>\n",
       "    </tr>\n",
       "  </thead>\n",
       "  <tbody>\n",
       "    <tr>\n",
       "      <th>200534</th>\n",
       "      <td>&lt;div class=\"body\"&gt;\\n&lt;div class=\"pull_right date details\" title=\"25.12.2019 12:50:26\"&gt;\\n12:50\\n       &lt;/div&gt;\\n&lt;div class=\"from_name\"&gt;\\nBunq Vuller\\n       &lt;/div&gt;\\n&lt;div class=\"text\"&gt;\\n🆘BUNQ gezocht🆘&lt;br/&gt;&lt;br/&gt;⚡️Paar meijers jouw kant op bij registratie&lt;br/&gt;&lt;br/&gt;⚡️Wat er op komt wordt 40/60 verdeeld...</td>\n",
       "      <td>🆘BUNQ gezocht🆘⚡️Paar meijers jouw kant op bij registratie⚡️Wat er op komt wordt 40/60 verdeeld⚡️minimaal 4K wordt gegooid❌ Geen tussenpersonen, ik vul zelf.❌</td>\n",
       "      <td>25.12.2019 12:50:26</td>\n",
       "      <td>Bunq Vuller</td>\n",
       "      <td>SwipersHandel</td>\n",
       "      <td>original</td>\n",
       "      <td></td>\n",
       "      <td>Bunq Vuller</td>\n",
       "      <td>2019-12-25 12:50:26</td>\n",
       "      <td>2019-12-25 00:00:00</td>\n",
       "      <td>4</td>\n",
       "      <td>157</td>\n",
       "    </tr>\n",
       "    <tr>\n",
       "      <th>91193</th>\n",
       "      <td>&lt;div class=\"body\"&gt;\\n&lt;div class=\"pull_right date details\" title=\"15.01.2020 16:38:22\"&gt;\\n16:38\\n       &lt;/div&gt;\\n&lt;div class=\"from_name\"&gt;\\nJustspass \\n       &lt;/div&gt;\\n&lt;div class=\"text\"&gt;\\nHoelang blijft baro bedrijfspa levend?\\n       &lt;/div&gt;\\n&lt;/div&gt;</td>\n",
       "      <td>Hoelang blijft baro bedrijfspa levend?</td>\n",
       "      <td>15.01.2020 16:38:22</td>\n",
       "      <td>Justspass</td>\n",
       "      <td>BonkersGG</td>\n",
       "      <td>original</td>\n",
       "      <td></td>\n",
       "      <td>Justspass</td>\n",
       "      <td>2020-01-15 16:38:22</td>\n",
       "      <td>2020-01-15 00:00:00</td>\n",
       "      <td>3</td>\n",
       "      <td>38</td>\n",
       "    </tr>\n",
       "  </tbody>\n",
       "</table>\n",
       "</div>"
      ],
      "text/plain": [
       "                                                                                                                                                                                                                                                                                                               body  \\\n",
       "200534  <div class=\"body\">\\n<div class=\"pull_right date details\" title=\"25.12.2019 12:50:26\">\\n12:50\\n       </div>\\n<div class=\"from_name\">\\nBunq Vuller\\n       </div>\\n<div class=\"text\">\\n🆘BUNQ gezocht🆘<br/><br/>⚡️Paar meijers jouw kant op bij registratie<br/><br/>⚡️Wat er op komt wordt 40/60 verdeeld...   \n",
       "91193                                                            <div class=\"body\">\\n<div class=\"pull_right date details\" title=\"15.01.2020 16:38:22\">\\n16:38\\n       </div>\\n<div class=\"from_name\">\\nJustspass \\n       </div>\\n<div class=\"text\">\\nHoelang blijft baro bedrijfspa levend?\\n       </div>\\n</div>   \n",
       "\n",
       "                                                                                                                                                                 text  \\\n",
       "200534  🆘BUNQ gezocht🆘⚡️Paar meijers jouw kant op bij registratie⚡️Wat er op komt wordt 40/60 verdeeld⚡️minimaal 4K wordt gegooid❌ Geen tussenpersonen, ik vul zelf.❌   \n",
       "91193                                                                                                                          Hoelang blijft baro bedrijfspa levend?   \n",
       "\n",
       "                  timestamp  orig_author         thread post_type  \\\n",
       "200534  25.12.2019 12:50:26  Bunq Vuller  SwipersHandel  original   \n",
       "91193   15.01.2020 16:38:22    Justspass      BonkersGG  original   \n",
       "\n",
       "       forwarded_by orig_author_cleaned             datetime  \\\n",
       "200534                      Bunq Vuller  2019-12-25 12:50:26   \n",
       "91193                         Justspass  2020-01-15 16:38:22   \n",
       "\n",
       "                    timebin  random_value  text_length  \n",
       "200534  2019-12-25 00:00:00             4          157  \n",
       "91193   2020-01-15 00:00:00             3           38  "
      ]
     },
     "execution_count": 103,
     "metadata": {},
     "output_type": "execute_result"
    }
   ],
   "source": [
    "df.sample(2)"
   ]
  },
  {
   "cell_type": "code",
   "execution_count": 104,
   "metadata": {},
   "outputs": [
    {
     "data": {
      "text/plain": [
       "2"
      ]
     },
     "execution_count": 104,
     "metadata": {},
     "output_type": "execute_result"
    }
   ],
   "source": [
    "a = 'iuhasojidoknjasdk'\n",
    "a.count('o')"
   ]
  },
  {
   "cell_type": "code",
   "execution_count": 108,
   "metadata": {},
   "outputs": [
    {
     "name": "stderr",
     "output_type": "stream",
     "text": [
      "100%|██████████| 183188/183188 [00:00<00:00, 227870.26it/s]\n"
     ]
    }
   ],
   "source": [
    "def leo_function(x):\n",
    "    return x.count('o')\n",
    "\n",
    "df = df.assign(amount_o = df.body.progress_apply(lambda x: leo_function(x)))"
   ]
  },
  {
   "cell_type": "code",
   "execution_count": 109,
   "metadata": {},
   "outputs": [
    {
     "data": {
      "text/html": [
       "<div>\n",
       "<style scoped>\n",
       "    .dataframe tbody tr th:only-of-type {\n",
       "        vertical-align: middle;\n",
       "    }\n",
       "\n",
       "    .dataframe tbody tr th {\n",
       "        vertical-align: top;\n",
       "    }\n",
       "\n",
       "    .dataframe thead th {\n",
       "        text-align: right;\n",
       "    }\n",
       "</style>\n",
       "<table border=\"1\" class=\"dataframe\">\n",
       "  <thead>\n",
       "    <tr style=\"text-align: right;\">\n",
       "      <th></th>\n",
       "      <th>0</th>\n",
       "      <th>1</th>\n",
       "    </tr>\n",
       "  </thead>\n",
       "  <tbody>\n",
       "    <tr>\n",
       "      <th>body</th>\n",
       "      <td>&lt;div class=\"body\"&gt;\\n&lt;div class=\"pull_right date details\" title=\"06.09.2019 00:02:50\"&gt;\\n00:02\\n       &lt;/div&gt;\\n&lt;div class=\"from_name\"&gt;\\nKoos Van Spek\\n       &lt;/div&gt;\\n&lt;div class=\"pull_left forwarded userpic_wrap\"&gt;\\n&lt;div class=\"userpic userpic1\" style=\"width: 42px; height: 42px\"&gt;\\n&lt;div class=\"initia...</td>\n",
       "      <td>&lt;div class=\"forwarded body\"&gt;\\n&lt;div class=\"from_name\"&gt;\\nKoos Van Spek&lt;span class=\"details\"&gt; 06.09.2019 00:02:37&lt;/span&gt;\\n&lt;/div&gt;\\n&lt;div class=\"text\"&gt;\\nWies goed met methodes PB NU❗\\n        &lt;/div&gt;\\n&lt;/div&gt;</td>\n",
       "    </tr>\n",
       "    <tr>\n",
       "      <th>text</th>\n",
       "      <td>Wies goed met methodes PB NU❗</td>\n",
       "      <td>Wies goed met methodes PB NU❗</td>\n",
       "    </tr>\n",
       "    <tr>\n",
       "      <th>timestamp</th>\n",
       "      <td>06.09.2019 00:02:50</td>\n",
       "      <td></td>\n",
       "    </tr>\n",
       "    <tr>\n",
       "      <th>orig_author</th>\n",
       "      <td>Koos Van Spek</td>\n",
       "      <td>Koos Van Spek</td>\n",
       "    </tr>\n",
       "    <tr>\n",
       "      <th>thread</th>\n",
       "      <td>BonkersGG</td>\n",
       "      <td>BonkersGG</td>\n",
       "    </tr>\n",
       "    <tr>\n",
       "      <th>post_type</th>\n",
       "      <td>forwarded</td>\n",
       "      <td>forwarded</td>\n",
       "    </tr>\n",
       "    <tr>\n",
       "      <th>forwarded_by</th>\n",
       "      <td></td>\n",
       "      <td></td>\n",
       "    </tr>\n",
       "    <tr>\n",
       "      <th>orig_author_cleaned</th>\n",
       "      <td>Koos Van Spek</td>\n",
       "      <td>Koos Van Spek</td>\n",
       "    </tr>\n",
       "    <tr>\n",
       "      <th>datetime</th>\n",
       "      <td>2019-09-06 00:02:50</td>\n",
       "      <td></td>\n",
       "    </tr>\n",
       "    <tr>\n",
       "      <th>timebin</th>\n",
       "      <td>2019-09-06 00:00:00</td>\n",
       "      <td></td>\n",
       "    </tr>\n",
       "    <tr>\n",
       "      <th>random_value</th>\n",
       "      <td>2</td>\n",
       "      <td>3</td>\n",
       "    </tr>\n",
       "    <tr>\n",
       "      <th>text_length</th>\n",
       "      <td>29</td>\n",
       "      <td>29</td>\n",
       "    </tr>\n",
       "    <tr>\n",
       "      <th>amount_o</th>\n",
       "      <td>12</td>\n",
       "      <td>7</td>\n",
       "    </tr>\n",
       "  </tbody>\n",
       "</table>\n",
       "</div>"
      ],
      "text/plain": [
       "                                                                                                                                                                                                                                                                                                                               0  \\\n",
       "body                 <div class=\"body\">\\n<div class=\"pull_right date details\" title=\"06.09.2019 00:02:50\">\\n00:02\\n       </div>\\n<div class=\"from_name\">\\nKoos Van Spek\\n       </div>\\n<div class=\"pull_left forwarded userpic_wrap\">\\n<div class=\"userpic userpic1\" style=\"width: 42px; height: 42px\">\\n<div class=\"initia...   \n",
       "text                                                                                                                                                                                                                                                                                               Wies goed met methodes PB NU❗   \n",
       "timestamp                                                                                                                                                                                                                                                                                                    06.09.2019 00:02:50   \n",
       "orig_author                                                                                                                                                                                                                                                                                                        Koos Van Spek   \n",
       "thread                                                                                                                                                                                                                                                                                                                 BonkersGG   \n",
       "post_type                                                                                                                                                                                                                                                                                                              forwarded   \n",
       "forwarded_by                                                                                                                                                                                                                                                                                                                       \n",
       "orig_author_cleaned                                                                                                                                                                                                                                                                                                Koos Van Spek   \n",
       "datetime                                                                                                                                                                                                                                                                                                     2019-09-06 00:02:50   \n",
       "timebin                                                                                                                                                                                                                                                                                                      2019-09-06 00:00:00   \n",
       "random_value                                                                                                                                                                                                                                                                                                                   2   \n",
       "text_length                                                                                                                                                                                                                                                                                                                   29   \n",
       "amount_o                                                                                                                                                                                                                                                                                                                      12   \n",
       "\n",
       "                                                                                                                                                                                                                            1  \n",
       "body                 <div class=\"forwarded body\">\\n<div class=\"from_name\">\\nKoos Van Spek<span class=\"details\"> 06.09.2019 00:02:37</span>\\n</div>\\n<div class=\"text\">\\nWies goed met methodes PB NU❗\\n        </div>\\n</div>  \n",
       "text                                                                                                                                                                                            Wies goed met methodes PB NU❗  \n",
       "timestamp                                                                                                                                                                                                                      \n",
       "orig_author                                                                                                                                                                                                     Koos Van Spek  \n",
       "thread                                                                                                                                                                                                              BonkersGG  \n",
       "post_type                                                                                                                                                                                                           forwarded  \n",
       "forwarded_by                                                                                                                                                                                                                   \n",
       "orig_author_cleaned                                                                                                                                                                                             Koos Van Spek  \n",
       "datetime                                                                                                                                                                                                                       \n",
       "timebin                                                                                                                                                                                                                        \n",
       "random_value                                                                                                                                                                                                                3  \n",
       "text_length                                                                                                                                                                                                                29  \n",
       "amount_o                                                                                                                                                                                                                    7  "
      ]
     },
     "execution_count": 109,
     "metadata": {},
     "output_type": "execute_result"
    }
   ],
   "source": [
    "df.head(2).T"
   ]
  },
  {
   "cell_type": "markdown",
   "metadata": {},
   "source": [
    "### **Save the Data**"
   ]
  },
  {
   "cell_type": "code",
   "execution_count": 110,
   "metadata": {},
   "outputs": [],
   "source": [
    "df.to_csv('output_dataset.csv.gz', compression='gzip', index=False)"
   ]
  },
  {
   "cell_type": "code",
   "execution_count": 111,
   "metadata": {},
   "outputs": [],
   "source": [
    "test = pd.read_csv('output_dataset.csv.gz')"
   ]
  },
  {
   "cell_type": "code",
   "execution_count": 112,
   "metadata": {},
   "outputs": [
    {
     "data": {
      "text/html": [
       "<div>\n",
       "<style scoped>\n",
       "    .dataframe tbody tr th:only-of-type {\n",
       "        vertical-align: middle;\n",
       "    }\n",
       "\n",
       "    .dataframe tbody tr th {\n",
       "        vertical-align: top;\n",
       "    }\n",
       "\n",
       "    .dataframe thead th {\n",
       "        text-align: right;\n",
       "    }\n",
       "</style>\n",
       "<table border=\"1\" class=\"dataframe\">\n",
       "  <thead>\n",
       "    <tr style=\"text-align: right;\">\n",
       "      <th></th>\n",
       "      <th>body</th>\n",
       "      <th>text</th>\n",
       "      <th>timestamp</th>\n",
       "      <th>orig_author</th>\n",
       "      <th>thread</th>\n",
       "      <th>post_type</th>\n",
       "      <th>forwarded_by</th>\n",
       "      <th>orig_author_cleaned</th>\n",
       "      <th>datetime</th>\n",
       "      <th>timebin</th>\n",
       "      <th>random_value</th>\n",
       "      <th>text_length</th>\n",
       "      <th>amount_o</th>\n",
       "    </tr>\n",
       "  </thead>\n",
       "  <tbody>\n",
       "    <tr>\n",
       "      <th>0</th>\n",
       "      <td>&lt;div class=\"body\"&gt;\\n&lt;div class=\"pull_right date details\" title=\"06.09.2019 00:02:50\"&gt;\\n00:02\\n       &lt;/div&gt;\\n&lt;div class=\"from_name\"&gt;\\nKoos Van Spek\\n       &lt;/div&gt;\\n&lt;div class=\"pull_left forwarded userpic_wrap\"&gt;\\n&lt;div class=\"userpic userpic1\" style=\"width: 42px; height: 42px\"&gt;\\n&lt;div class=\"initia...</td>\n",
       "      <td>Wies goed met methodes PB NU❗</td>\n",
       "      <td>06.09.2019 00:02:50</td>\n",
       "      <td>Koos Van Spek</td>\n",
       "      <td>BonkersGG</td>\n",
       "      <td>forwarded</td>\n",
       "      <td>NaN</td>\n",
       "      <td>Koos Van Spek</td>\n",
       "      <td>2019-09-06 00:02:50</td>\n",
       "      <td>2019-09-06 00:00:00</td>\n",
       "      <td>2</td>\n",
       "      <td>29</td>\n",
       "      <td>12</td>\n",
       "    </tr>\n",
       "    <tr>\n",
       "      <th>1</th>\n",
       "      <td>&lt;div class=\"forwarded body\"&gt;\\n&lt;div class=\"from_name\"&gt;\\nKoos Van Spek&lt;span class=\"details\"&gt; 06.09.2019 00:02:37&lt;/span&gt;\\n&lt;/div&gt;\\n&lt;div class=\"text\"&gt;\\nWies goed met methodes PB NU❗\\n        &lt;/div&gt;\\n&lt;/div&gt;</td>\n",
       "      <td>Wies goed met methodes PB NU❗</td>\n",
       "      <td>NaN</td>\n",
       "      <td>Koos Van Spek</td>\n",
       "      <td>BonkersGG</td>\n",
       "      <td>forwarded</td>\n",
       "      <td>NaN</td>\n",
       "      <td>Koos Van Spek</td>\n",
       "      <td>NaN</td>\n",
       "      <td>NaN</td>\n",
       "      <td>3</td>\n",
       "      <td>29</td>\n",
       "      <td>7</td>\n",
       "    </tr>\n",
       "  </tbody>\n",
       "</table>\n",
       "</div>"
      ],
      "text/plain": [
       "                                                                                                                                                                                                                                                                                                          body  \\\n",
       "0  <div class=\"body\">\\n<div class=\"pull_right date details\" title=\"06.09.2019 00:02:50\">\\n00:02\\n       </div>\\n<div class=\"from_name\">\\nKoos Van Spek\\n       </div>\\n<div class=\"pull_left forwarded userpic_wrap\">\\n<div class=\"userpic userpic1\" style=\"width: 42px; height: 42px\">\\n<div class=\"initia...   \n",
       "1                                                                                                     <div class=\"forwarded body\">\\n<div class=\"from_name\">\\nKoos Van Spek<span class=\"details\"> 06.09.2019 00:02:37</span>\\n</div>\\n<div class=\"text\">\\nWies goed met methodes PB NU❗\\n        </div>\\n</div>   \n",
       "\n",
       "                            text            timestamp    orig_author  \\\n",
       "0  Wies goed met methodes PB NU❗  06.09.2019 00:02:50  Koos Van Spek   \n",
       "1  Wies goed met methodes PB NU❗                  NaN  Koos Van Spek   \n",
       "\n",
       "      thread  post_type  forwarded_by orig_author_cleaned  \\\n",
       "0  BonkersGG  forwarded           NaN       Koos Van Spek   \n",
       "1  BonkersGG  forwarded           NaN       Koos Van Spek   \n",
       "\n",
       "              datetime              timebin  random_value  text_length  \\\n",
       "0  2019-09-06 00:02:50  2019-09-06 00:00:00             2           29   \n",
       "1                  NaN                  NaN             3           29   \n",
       "\n",
       "   amount_o  \n",
       "0        12  \n",
       "1         7  "
      ]
     },
     "execution_count": 112,
     "metadata": {},
     "output_type": "execute_result"
    }
   ],
   "source": [
    "test.head(2)"
   ]
  },
  {
   "cell_type": "code",
   "execution_count": 113,
   "metadata": {},
   "outputs": [
    {
     "name": "stdout",
     "output_type": "stream",
     "text": [
      "Stored 'test' (DataFrame)\n"
     ]
    }
   ],
   "source": [
    "%store test"
   ]
  },
  {
   "cell_type": "code",
   "execution_count": null,
   "metadata": {},
   "outputs": [],
   "source": []
  }
 ],
 "metadata": {
  "kernelspec": {
   "display_name": "Python 3",
   "language": "python",
   "name": "python3"
  },
  "language_info": {
   "codemirror_mode": {
    "name": "ipython",
    "version": 3
   },
   "file_extension": ".py",
   "mimetype": "text/x-python",
   "name": "python",
   "nbconvert_exporter": "python",
   "pygments_lexer": "ipython3",
   "version": "3.6.9"
  }
 },
 "nbformat": 4,
 "nbformat_minor": 4
}
